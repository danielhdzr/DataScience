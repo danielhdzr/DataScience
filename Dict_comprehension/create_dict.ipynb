{
 "cells": [
  {
   "cell_type": "code",
   "execution_count": 1,
   "id": "3d835c41-602c-45e6-a5c2-63fa50062aa3",
   "metadata": {},
   "outputs": [
    {
     "name": "stdout",
     "output_type": "stream",
     "text": [
      "{'Daniel': 'programmer', 'Gandalf': 'Wizard', 'Batman': 'Hero'}\n"
     ]
    }
   ],
   "source": [
    "import pandas as pd\n",
    "import random\n",
    "import string\n",
    "# Lists a dicts\n",
    "# For loop approach - zip\n",
    "names = [\"Daniel\", \"Gandalf\", \"Batman\"]\n",
    "profs = [\"programmer\", \"Wizard\", \"Hero\"]\n",
    "my_dict = {}\n",
    "\n",
    "for (key, value) in zip(names, profs):  # a zip se le pasan tuples\n",
    "    my_dict[key] = value\n",
    "print(my_dict)"
   ]
  },
  {
   "cell_type": "code",
   "execution_count": 2,
   "id": "e488045c-fc8b-4f4a-bde6-966b3c91a0dd",
   "metadata": {},
   "outputs": [
    {
     "name": "stdout",
     "output_type": "stream",
     "text": [
      "{'Daniel': 'programmer', 'Gandalf': 'Wizard', 'Batman': 'Hero'}\n"
     ]
    }
   ],
   "source": [
    "# For loop apprach - range\n",
    "for i in range(3):\n",
    "    my_dict[names[i]] = profs[i]\n",
    "# names[0]=Daniel\n",
    "# profs[0]=\"programmer\"\n",
    "print(my_dict)"
   ]
  },
  {
   "cell_type": "code",
   "execution_count": 3,
   "id": "c3087e2f-d1b9-4b01-8be4-82767ea5bbda",
   "metadata": {},
   "outputs": [
    {
     "name": "stdout",
     "output_type": "stream",
     "text": [
      "{'Daniel': 'programmer', 'Gandalf': 'Wizard', 'Batman': 'Hero'}\n"
     ]
    }
   ],
   "source": [
    "# Dict comprehension - zip\n",
    "my_dict = {key: value for (key, value) in zip(names, profs)}\n",
    "print(my_dict)"
   ]
  },
  {
   "cell_type": "code",
   "execution_count": 4,
   "id": "bac10205-bbe9-4c6e-8f5b-50ea86cb1f40",
   "metadata": {},
   "outputs": [
    {
     "name": "stdout",
     "output_type": "stream",
     "text": [
      "{'Daniel': 'programmer', 'Gandalf': 'Wizard', 'Batman': 'Hero'}\n"
     ]
    }
   ],
   "source": [
    "# Dict comprehension - range\n",
    "my_dict = {names[i]: profs[i] for i in range(len(names))}\n",
    "# puede ser len(names o profs) porque tienen el mismo len\n",
    "print(my_dict)"
   ]
  },
  {
   "cell_type": "code",
   "execution_count": 5,
   "id": "54947ef1-432a-4109-b674-27fc8349d657",
   "metadata": {},
   "outputs": [
    {
     "name": "stdout",
     "output_type": "stream",
     "text": [
      "{'Daniel': 'programmer', 'Gandalf': 'Wizard', 'Batman': 'Hero'}\n",
      "{'Daniel': 'programmer', 'Gandalf': 'Wizard', 'Batman': 'Hero'}\n"
     ]
    }
   ],
   "source": [
    "# Tuples a dicts\n",
    "names = (\"Daniel\", \"Gandalf\", \"Batman\")\n",
    "profs = (\"programmer\", \"Wizard\", \"Hero\")\n",
    "# Zip  # a zip se le pasan tuples\n",
    "my_dict = {key: value for (key, value) in zip(names, profs)}\n",
    "print(my_dict)\n",
    "# range()\n",
    "my_dict = {names[i]: profs[i] for i in range(len(names))}\n",
    "\n",
    "print(my_dict)"
   ]
  },
  {
   "cell_type": "code",
   "execution_count": 6,
   "id": "dd8cc772-93ce-45dd-927e-9a2b1c6c771e",
   "metadata": {},
   "outputs": [
    {
     "name": "stdout",
     "output_type": "stream",
     "text": [
      "{'Daniel': 'programmer', 'Gandalf': 'Wizard', 'Batman': 'Hero'}\n",
      "{'Daniel': 'programmer', 'Gandalf': 'Wizard', 'Batman': 'Hero'}\n"
     ]
    }
   ],
   "source": [
    "# Pandas dataframe a dict\n",
    "names = pd.DataFrame([\"Daniel\", \"Gandalf\", \"Batman\"])\n",
    "profs = pd.DataFrame([\"programmer\", \"Wizard\", \"Hero\"])\n",
    "# ZIP approach\n",
    "# Enfoco la primer columna en index 0\n",
    "my_dict = {key: value for (key, value) in zip(names[0], profs[0])}\n",
    "print(my_dict)\n",
    "# range() approach\n",
    "my_dict = {names[0][i]: profs[0][i] for i in range(len(names))}\n",
    "\n",
    "print(my_dict)"
   ]
  },
  {
   "cell_type": "code",
   "execution_count": 7,
   "id": "e5bbaab3-7f4a-4a86-8b6e-b1a3d7270d89",
   "metadata": {},
   "outputs": [
    {
     "name": "stdout",
     "output_type": "stream",
     "text": [
      "{'Spider-man': 'photographer', 'Batman': 'philanthropist', 'Wonder woman': 'nurse'}\n"
     ]
    }
   ],
   "source": [
    "'''Modify a dictionary in place'''\n",
    "my_dict = {\n",
    "    \"Spider-\": \"photographer\",\n",
    "    \"Bat\": \"philanthropist\",\n",
    "    \"Wonder wo\": \"nurse\"\n",
    "}\n",
    "#  Concatenar \"man\" a cada key\n",
    "#  Sin items() method no tenemos acceso a los values\n",
    "my_dict = {key+\"man\": val for (key, val) in my_dict.items()}\n",
    "print(my_dict)"
   ]
  },
  {
   "cell_type": "code",
   "execution_count": 8,
   "id": "80120598-ae06-4f73-b04b-d1bd84aa75c1",
   "metadata": {},
   "outputs": [
    {
     "name": "stdout",
     "output_type": "stream",
     "text": [
      "{'Superman': 'journalist', 'Batman': 'philanthropist', 'Wonder woman': 'nurse'}\n"
     ]
    }
   ],
   "source": [
    "my_dict = {\n",
    "    \"Spider-\": \"photographer\",\n",
    "    \"Bat\": \"philanthropist\",\n",
    "    \"Wonder wo\": \"nurse\"\n",
    "}\n",
    "#  Sin items() method no tenemos acceso a los values\n",
    "#  Cambio el key y value de spider-man\n",
    "my_dict = {(key+\"man\" if key != \"Spider-\" else \"Superman\"):\n",
    "           (val if val != \"photographer\" else \"journalist\")\n",
    "           for (key, val) in my_dict.items()}\n",
    "print(my_dict)"
   ]
  },
  {
   "cell_type": "code",
   "execution_count": 9,
   "id": "782e6784-0cc4-4878-8134-871055f1c83b",
   "metadata": {},
   "outputs": [
    {
     "name": "stdout",
     "output_type": "stream",
     "text": [
      "['G', 'A', 'A', 'A', 'T', 'A', 'A', 'A', 'G', 'A']\n"
     ]
    }
   ],
   "source": [
    "'''Create a dictionary of lists'''\n",
    "bases = [\"A\", \"T\", \"C\", \"G\"]\n",
    "#  Creacion de nva. lista\n",
    "# (Lista a elegir como base, y largo de la nueva lista)\n",
    "strand1 = random.choices(bases, k=10)\n",
    "print(strand1)"
   ]
  },
  {
   "cell_type": "code",
   "execution_count": 10,
   "id": "d9f536c8-0951-4b3c-8699-1536227d7539",
   "metadata": {},
   "outputs": [
    {
     "name": "stdout",
     "output_type": "stream",
     "text": [
      "{0: [], 1: [], 2: [], 3: [], 4: [], 5: [], 6: [], 7: [], 8: [], 9: []}\n"
     ]
    }
   ],
   "source": [
    "# Crea lista vacia para cada value\n",
    "dna = {key: [] for (key, val) in enumerate(strand1)}\n",
    "print(dna)"
   ]
  },
  {
   "cell_type": "code",
   "execution_count": 11,
   "id": "31b68e83-8374-4bd0-af16-751db71af296",
   "metadata": {},
   "outputs": [
    {
     "name": "stdout",
     "output_type": "stream",
     "text": [
      "{0: ['G', None], 1: ['A', None], 2: ['A', None], 3: ['A', None], 4: ['T', None], 5: ['A', None], 6: ['A', None], 7: ['A', None], 8: ['G', None], 9: ['A', None]}\n"
     ]
    }
   ],
   "source": [
    "# Asigna None (ausencia de data) a cada key como su value\n",
    "dna = {key: [val, None] for (key, val) in enumerate(strand1)}\n",
    "print(dna)"
   ]
  },
  {
   "cell_type": "code",
   "execution_count": 12,
   "id": "aadd73d5-2f65-49ae-a904-b1fb308d6f72",
   "metadata": {},
   "outputs": [
    {
     "name": "stdout",
     "output_type": "stream",
     "text": [
      "{0: ['G', 'C'], 1: ['A', 'T'], 2: ['A', 'T'], 3: ['A', 'T'], 4: ['T', 'A'], 5: ['A', 'T'], 6: ['A', 'T'], 7: ['A', 'T'], 8: ['G', 'C'], 9: ['A', 'T']}\n"
     ]
    }
   ],
   "source": [
    "# Coloca el key y asigna el value condicionado\n",
    "dna = {\n",
    "    key: [val, (\"T\" if val == \"A\"\n",
    "                else \"A\" if val == \"T\"\n",
    "                else \"C\" if val == \"G\"\n",
    "                else \"G\")]  # key: [value, (value condicionado)]\n",
    "    for (key, val) in enumerate(strand1)\n",
    "}\n",
    "print(dna)"
   ]
  },
  {
   "cell_type": "code",
   "execution_count": 18,
   "id": "a37ceb85-07b2-4b47-9bed-5f1482d0ce0d",
   "metadata": {},
   "outputs": [
    {
     "name": "stdout",
     "output_type": "stream",
     "text": [
      "[{}, {}, {}]\n"
     ]
    }
   ],
   "source": [
    "'''Lista de dictionaries'''\n",
    "keys = [\"id\", \"username\", \"password\"]\n",
    "users = [\"daniel\", \"KnotABot\", \"mom\"]\n",
    "\n",
    "# Crea un diccionario para cada miembro en users\n",
    "data = [{}for i in range(len(users))]\n",
    "print(data)"
   ]
  },
  {
   "cell_type": "code",
   "execution_count": 19,
   "id": "5a9c7653-3f0b-4792-854a-8d12d8536e51",
   "metadata": {},
   "outputs": [
    {
     "name": "stdout",
     "output_type": "stream",
     "text": [
      "[{'id': None, 'username': None, 'password': None}, {'id': None, 'username': None, 'password': None}, {'id': None, 'username': None, 'password': None}]\n"
     ]
    }
   ],
   "source": [
    "# Asigna None como value a cada key encontrado en keys\n",
    "data = [{key: None for key in keys}for i in range(len(users))]\n",
    "print(data)"
   ]
  },
  {
   "cell_type": "code",
   "execution_count": 20,
   "id": "ee2465b4-243c-446d-b070-5cfb9c3911b5",
   "metadata": {},
   "outputs": [
    {
     "name": "stdout",
     "output_type": "stream",
     "text": [
      "[{'id': 0, 'username': 'daniel', 'password': None}, {'id': 1, 'username': 'KnotABot', 'password': None}, {'id': 2, 'username': 'mom', 'password': None}]\n"
     ]
    }
   ],
   "source": [
    "# Se itera en la lista keys y se ejecutan los condicionales\n",
    "data = [{key:\n",
    "         (i if key == \"id\"  # index si key == \"id\"\n",
    "          else users[i] if key == \"username\"  # Itera en users si la condicion se cumple\n",
    "          else None)\n",
    "         for key in keys}for i in range(len(users))]\n",
    "print(data)"
   ]
  },
  {
   "cell_type": "code",
   "execution_count": 21,
   "id": "4ecb24b0-6362-4045-aa92-6f8bed87d27d",
   "metadata": {},
   "outputs": [
    {
     "name": "stdout",
     "output_type": "stream",
     "text": [
      "\"o}^<x?b\n"
     ]
    }
   ],
   "source": [
    "# Crea contrasena de 8 caracteres al azar y la une (con espacios vacios)\"\".join\n",
    "# para parecer un string\n",
    "password = \"\".join(random.choices(string.printable, k=8))\n",
    "print(password)\n"
   ]
  },
  {
   "cell_type": "code",
   "execution_count": 22,
   "id": "dde542d0-4b36-49d4-a02c-cb8112574123",
   "metadata": {},
   "outputs": [
    {
     "name": "stdout",
     "output_type": "stream",
     "text": [
      "[{'id': 0, 'username': 'daniel', 'password': 'yudNjxpj'}, {'id': 1, 'username': 'KnotABot', 'password': 'Z+Yt\"UHT'}, {'id': 2, 'username': 'mom', 'password': 'TzbA=9~@'}]\n"
     ]
    }
   ],
   "source": [
    "# Crea la contrasena cada vez que key sea == password\n",
    "data = [{key:\n",
    "         (i if key == \"id\"\n",
    "          else users[i] if key == \"username\"\n",
    "          else \"\".join(random.choices(string.printable, k=8)))\n",
    "         for key in keys} for i in range(len(users))]\n",
    "print(data)\n",
    "# Se pueden agregar usuarios y todo funcionara bien"
   ]
  },
  {
   "cell_type": "code",
   "execution_count": null,
   "id": "9c56703a-b340-4a0b-91c8-e9c0355a8fd6",
   "metadata": {},
   "outputs": [],
   "source": []
  }
 ],
 "metadata": {
  "kernelspec": {
   "display_name": "Python 3 (ipykernel)",
   "language": "python",
   "name": "python3"
  },
  "language_info": {
   "codemirror_mode": {
    "name": "ipython",
    "version": 3
   },
   "file_extension": ".py",
   "mimetype": "text/x-python",
   "name": "python",
   "nbconvert_exporter": "python",
   "pygments_lexer": "ipython3",
   "version": "3.9.19"
  }
 },
 "nbformat": 4,
 "nbformat_minor": 5
}
