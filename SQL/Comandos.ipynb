{
 "cells": [
  {
   "cell_type": "raw",
   "id": "f46132f6-704e-4f52-9b88-20d5b803b0f3",
   "metadata": {},
   "source": [
    "tabla:\n",
    "Column           Type            Nullable\n",
    "user_id          int             NO\n",
    "name             varchar(50)     NO\n",
    "surname          varchar(100)    YES\n",
    "age              int             YES\n",
    "init_date        date            YES\n",
    "email            varchar         YES"
   ]
  },
  {
   "cell_type": "raw",
   "id": "2b3c5579-8cfd-42cf-92d1-771796f20dfc",
   "metadata": {},
   "source": [
    "'''COMENTARIOS'''\n",
    "\n",
    "/*\n",
    "Este es un comentario\n",
    "*/"
   ]
  },
  {
   "cell_type": "raw",
   "id": "b2b609e3-e7d9-4f7e-b5e6-be2e4f49684e",
   "metadata": {},
   "source": [
    "'''CONSULTA DE DATOS'''\n",
    "\n",
    "# SELECT\n",
    "\n",
    "SELECT * FROM tabla;\n",
    "Selecciona todos los datos de la tabla\n",
    "\n",
    "SELECT name FROM tabla;\n",
    "Selecciona el campo o columna elegida con sus datos\n",
    "\n",
    "SELECT id, name FROM tabla;\n",
    "Selecciona dos campos o columnas elegidas con sus datos"
   ]
  },
  {
   "cell_type": "raw",
   "id": "53a38441-8c9f-4dfd-82fe-4e1239266bc7",
   "metadata": {},
   "source": [
    "'''MODIFICADORES'''\n",
    "\n",
    "# DISTINCT\n",
    "\n",
    "SELECT DISTINCT * FROM tabla;\n",
    "Selecciona todos los campos diferentes en la tabla, con sus datos\n",
    "\n",
    "SELECT DISTINCT age FROM tabla;\n",
    "Selecciona los valores distintos en el campo especificado"
   ]
  },
  {
   "cell_type": "raw",
   "id": "f1c7f907-aa44-4f42-9d14-ca497df16e15",
   "metadata": {},
   "source": [
    "# WHERE\n",
    "\n",
    "SELECT * FROM tabla WHERE age = 15;\n",
    "Selecciona las filas donde se cumpla la condicion en el campo especificado\n",
    "\n",
    "SELECT name * FROM tabla WHERE age = 15;\n",
    "Selecciona los datos de los campos que coincidan con el condicional"
   ]
  },
  {
   "cell_type": "raw",
   "id": "4e87c0a4-518a-410a-9163-e0a84a9a967e",
   "metadata": {},
   "source": [
    "# ORDER BY\n",
    "\n",
    "SELECT * FROM tabla ORDER BY age;\n",
    "Selecciona todos los datos, ordenados por campo especificado\n",
    "\n",
    "SELECT * FROM tabla ORDER BY age DESC;\n",
    "Selecciona todos los datos, ordenados de forma descendente por campo especificado\n",
    "\n",
    "SELECT * FROM tabla WHERE email='das@gmail.com' ORDER BY age DESC;\n",
    "Selecciona todas las filas que coincidan con el dato especificado en x campo, y ordenadas por edad\n",
    "\n",
    "SELECT name FROM tabla WHERE email='das@gmail.com' ORDER BY age DESC;\n",
    "Selecciona los datos del campo especifico, que coincida con el condicional, ordenado por edad"
   ]
  },
  {
   "cell_type": "raw",
   "id": "1d81180a-d4e2-45c6-bd3e-696222db08e8",
   "metadata": {},
   "source": [
    "# LIKE\n",
    "\n",
    "SELECT * FROM tabla WHERE email LIKE = '%gmail.com';\n",
    "Selecciona coincidencias en campo especifico, el '%' solo toma en cuenta lo que hay despues de el\n",
    "\n",
    "SELECT * FROM tabla WHERE email LIKE = 'das%';\n",
    "Selecciona coincidencias en campo especifico, el '%' solo toma en cuenta lo que hay antes de el\n",
    "\n",
    "SELECT * FROM tabla WHERE email LIKE = '%@%';\n",
    "Selecciona coincidencias en campo especifico, el '%' solo toma en cuenta lo que hay emtre el"
   ]
  },
  {
   "cell_type": "raw",
   "id": "808253de-20ac-4738-bdb8-0433169630c9",
   "metadata": {},
   "source": [
    "# AND, OR, NOT\n",
    "\n",
    "SELECT * FROM tabla WHERE NOT email = 'das@gmail.com';\n",
    "Excluye las filas que coincidan en el valor especifico\n",
    "\n",
    "SELECT * FROM tabla WHERE NOT email = 'das@gmail.com' AND edad = 15;\n",
    "Selecciona las filas que no coincidan con el primer valor y que coincidan con el segundo\n",
    "\n",
    "SELECT * FROM tabla WHERE NOT email = 'das@gmail.com' OR edad = 15;\n",
    "Selecciona las filas que cumplan cualquiera de las dos condiciones"
   ]
  },
  {
   "cell_type": "raw",
   "id": "24971c09-e378-4948-bd0d-99f04892584d",
   "metadata": {},
   "source": [
    "# LIMIT\n",
    "\n",
    "SELECT * FROM table LIMIT 2;\n",
    "Limita la muestra de datos al parametro especificado\n",
    "\n",
    "SELECT * FROM tabla WHERE NOT email = 'das@gmail.com' OR edad = 15 LIMIT 3;"
   ]
  },
  {
   "cell_type": "raw",
   "id": "9b93a191-380d-4862-9d02-e6fdbf736a22",
   "metadata": {},
   "source": [
    "# NULL\n",
    "\n",
    "SELECT * FROM table WHERE email IS NULL;\n",
    "Selecciona las filas que coincidan con el valor nulo\n",
    "\n",
    "SELECT * FROM table WHERE email IS NOT NULL;\n",
    "\n",
    "SELECT * FROM table WHERE email IS NOT NULL AND adad = 15;\n",
    "Selecciona las filas que coincidan con las condicionales"
   ]
  },
  {
   "cell_type": "raw",
   "id": "124fc832-5981-40a6-ac79-fc3d7018ddb8",
   "metadata": {},
   "source": [
    "# MIN, MAX\n",
    "\n",
    "SELECT MAX(edad) FROM tabla;\n",
    "Selecciona el valor maximo en el campo especificado\n",
    "\n",
    "SELECT MIN(edad) FROM tabla;\n",
    "Selecciona el valor minimo en el campo especificado"
   ]
  },
  {
   "cell_type": "raw",
   "id": "dc2ebf5c-fb90-48db-a1f1-4610caeaafe3",
   "metadata": {},
   "source": [
    "# COUNT\n",
    "\n",
    "SELECT COUNT(edad) FROM tabla;\n",
    "Cuenta los valores encontrados (no nulos) en campo especifico\n",
    "\n",
    "SELECT COUNT(*) FROM tabla;\n",
    "Cuenta las filas en la tabla"
   ]
  },
  {
   "cell_type": "raw",
   "id": "1623ba4d-a063-43d2-95ae-04ab0480d4c6",
   "metadata": {},
   "source": [
    "# SUM\n",
    "\n",
    "SELECT SUM(edad) FROM tabla;\n",
    "Suma los valores en campo especifico"
   ]
  },
  {
   "cell_type": "raw",
   "id": "e1ddf2fb-69f3-4b44-905a-ba2b0ce2aa30",
   "metadata": {},
   "source": [
    "# AVG\n",
    "\n",
    "SELECT AVG(edad) FROM tabla;\n",
    "Obtiene el promedio de los valores en campo especifico"
   ]
  },
  {
   "cell_type": "raw",
   "id": "527e2afd-7308-4c04-83f4-c75a1a056fcd",
   "metadata": {},
   "source": [
    "# IN\n",
    "\n",
    "SELECT * FROM tabla WHERE name IN('Daniel', 'Sara');\n",
    "Selecciona valores concretos en campos especificos. No es case sensitive"
   ]
  },
  {
   "cell_type": "raw",
   "id": "ca8a96a4-2186-4455-aa5e-96cb4ab4352e",
   "metadata": {},
   "source": [
    "# BETWEEN\n",
    "\n",
    "SELECT * FROM tabla WHERE edad BETWEEN 20 AND 30;\n",
    "Para rangos"
   ]
  },
  {
   "cell_type": "raw",
   "id": "587f4600-d101-46fd-97e4-1368e5399fcb",
   "metadata": {},
   "source": [
    "# ALIAS (AS)\n",
    "\n",
    "SELECT name, fecha AS 'Fecha de inicio' FROM tabla WHERE name = 'Daniel';\n",
    "Se da un alias al campo elegido (fecha)"
   ]
  },
  {
   "cell_type": "raw",
   "id": "5baeb722-82ad-458c-8f7c-198f639006b3",
   "metadata": {},
   "source": [
    "# CONCAT\n",
    "\n",
    "SELECT CONCAT('name, ' ', apellido) FROM tabla;\n",
    "Crea un nuevo campo. Concatena dos campos, (' ') deja un espacio vacio\n",
    "\n",
    "SELECT CONCAT('Nombre: ', name, ' Apellidos: ', apellido) AS nombre completo FROM tabla;\n",
    "Se puede dar formato"
   ]
  },
  {
   "cell_type": "raw",
   "id": "726dd124-5a4e-44bb-9bd7-8ed18ef8584b",
   "metadata": {},
   "source": [
    "# GROUP BY\n",
    "\n",
    "SELECT MAX(age) * FROM tabla GROUP BY age;\n",
    "El campo que se agrupa es el mismo en que se ejecuta la funcion\n",
    "\n",
    "SELECT COUNT(age) * FROM tabla GROUP BY age;\n",
    "\n",
    "SELECT COUNT(age), age * FROM tabla GROUP BY age;\n",
    "Se muestra el conteo de las edades, y las edades en dos campos diferentes\n",
    "\n",
    "SELECT COUNT(age), age * FROM tabla GROUP BY age ORDER BY age ASC;\n",
    "Ahora se ordena de forma ascendente\n",
    "\n",
    "SELECT COUNT(age), age * FROM tabla WHERE age > 15 GROUP BY age ORDER BY age ASC;\n",
    "Ahhora muestra las edades mayores a 15"
   ]
  },
  {
   "cell_type": "raw",
   "id": "b0930e87-7614-44a0-8704-1315289c7430",
   "metadata": {},
   "source": [
    "# HAVING\n",
    "\n",
    "SELECT * FROM tabla HAVING age > 15;\n",
    "Delimita la busqueda, aqui solo mayores de 15\n",
    "\n",
    "SELECT COUNT(age) FROM tabla HAVING COUNT(age) > 3;\n",
    "Delimita la busqueda dentro de otro modificador (solo si hay mas de 3 edades, en este ej.)"
   ]
  },
  {
   "cell_type": "raw",
   "id": "0bfc6055-f17c-40fc-8cff-160b4500b358",
   "metadata": {},
   "source": [
    "# CASE\n",
    "\n",
    "SELECT *,  # la coma es necesaria\n",
    "CASE\n",
    "    WHEN age > 18 THEN 'Es mayor de edad'\n",
    "    ELSE 'Es menor de edad'\n",
    "END AS agetext  # el alias siempre da nombre al campo o col elegido (age).\n",
    "FROM tabla;\n",
    "\n",
    "'''CASE desata un caso logico como en python'''\n",
    "\n",
    "SELECT *,\n",
    "CASE\n",
    "    WHEN age = 18 THEN 'Es mayor de edad'\n",
    "    WHEN age > 18 THEN 'Es aun mayor'\n",
    "    ELSE 'Es menor de edad'\n",
    "END AS agetext\n",
    "FROM tabla;\n",
    "\n",
    "SELECT *,\n",
    "CASE\n",
    "    WHEN age > 18 THEN True\n",
    "    ELSE False\n",
    "END AS agetext \n",
    "FROM tabla;\n",
    "\n",
    "'''Se puede mostrar un valor booleano tambien'''"
   ]
  },
  {
   "cell_type": "raw",
   "id": "7bf45e18-1b1f-4da3-acf9-4b809509c958",
   "metadata": {},
   "source": [
    "# IFNULL\n",
    "\n",
    "SELECT IFNULL(NULL, 'Es nulo');\n",
    "Regresa el valor si la expresion es NULL\n",
    "\n",
    "SELECT name, surname, IFNULL(age, 0) FROM tabla;\n",
    "Asigna un valor(0) si el dato en el campo(age) es nulo (NULL)\n",
    "\n",
    "SELECT name, surname, IFNULL(age, 0) AS AliasDeAge FROM tabla;\n",
    "Da un alias a la columna age"
   ]
  },
  {
   "cell_type": "raw",
   "id": "b7a01f42-91ab-4949-88ce-287febe14aa6",
   "metadata": {},
   "source": [
    "# IS NULL\n",
    "\n",
    "SELECT ISNULL(NULL);\n",
    "Si la expresion en NULL regresa 1, de lo contrario 0"
   ]
  },
  {
   "cell_type": "raw",
   "id": "071f3151-bf98-4bb1-b3f2-2f9c5dfb6da0",
   "metadata": {},
   "source": [
    "'''****INSERT****'''\n",
    "\n",
    "INSERT INTO  tabla(user_id, name, surname) VALUES(8, 'Maria', 'Lopez);\n",
    "Insertando de forma manual el id del usuario (incluso si hay 6 usuarios)\n",
    "\n",
    "INSERT INTO  tabla(name, surname) VALUES('Paco', 'Perez);\n",
    "Usando el autoincrement para que el id se asigne solo"
   ]
  },
  {
   "cell_type": "raw",
   "id": "8c1f96d1-9cd6-4205-b1bd-c1692a1361fe",
   "metadata": {},
   "source": [
    "# UPDATE\n",
    "\n",
    "UPDATE tabla SET age = 21 WHERE user_id = 11;\n",
    "Siempre se hacen con una regla de filtrado. Por defecto con un WHERE\n",
    "\n",
    "UPDATE tabla SET age = 20, init_date = '2020-10-12' WHERE user_id = 11;"
   ]
  },
  {
   "cell_type": "raw",
   "id": "b4da271f-886b-4feb-ae02-2c2726b0068a",
   "metadata": {},
   "source": [
    "# DELETE\n",
    "\n",
    "DELETE FROM tabla WHERE user_id = 11;"
   ]
  },
  {
   "cell_type": "raw",
   "id": "bd04aad9-7e6c-4d68-881d-fc1403097b4a",
   "metadata": {},
   "source": [
    "'''*************ADMINISTRACION DE DB*************'''\n",
    "\n",
    "# Crear base de datos 'test'\n",
    "CREATE DATABASE test;\n",
    "\n",
    "# Borrar base de datos 'test'\n",
    "DROP DATABASE test;"
   ]
  },
  {
   "cell_type": "raw",
   "id": "2379b7ac-51e2-44c6-833a-92fa7fdcae73",
   "metadata": {},
   "source": [
    "'''*************ADMINISTRACION DE TABLAS*************'''\n",
    "\n",
    "# Crear tabla 'personas'\n",
    "CREATE TABLE personas (\n",
    "    id int,\n",
    "    name varchar(100),\n",
    "    age int,\n",
    "    email varchar(50),\n",
    "    created date\n",
    ");"
   ]
  },
  {
   "cell_type": "raw",
   "id": "1b71e6ab-ad8f-40e8-9965-c30b683dc3ab",
   "metadata": {},
   "source": [
    "'''*************RESTRICCIONES*************'''\n",
    "\n",
    "# NOT NULL (no nulo, no vacio)\n",
    "\n",
    "CREATE TABLE personas2 (\n",
    "    id int NOT NULL,\n",
    "    name varchar(100) NOT NULL,\n",
    "    age int,\n",
    "    email varchar(50),\n",
    "    created date\n",
    ");"
   ]
  },
  {
   "cell_type": "raw",
   "id": "64ba3b9f-33bb-4993-92dc-ec063444489e",
   "metadata": {},
   "source": [
    "# UNIQUE\n",
    "\n",
    "CREATE TABLE personas3 (\n",
    "    id int NOT NULL,\n",
    "    name varchar(100) NOT NULL,\n",
    "    age int,\n",
    "    email varchar(50),\n",
    "    created date,\n",
    "    UNIQUE(id)\n",
    ");\n",
    "Ahora id es un campo unico, no se puede repetir"
   ]
  },
  {
   "cell_type": "raw",
   "id": "5ee65d82-fd32-491b-96e5-6ef7f6345565",
   "metadata": {},
   "source": [
    "# PRIMARY KEY\n",
    "\n",
    "CREATE TABLE personas4 (\n",
    "    id int NOT NULL,\n",
    "    name varchar(100) NOT NULL,\n",
    "    age int,\n",
    "    email varchar(50),\n",
    "    created date,\n",
    "    UNIQUE(id),\n",
    "    PRIMARY KEY(id)\n",
    ");\n",
    "Clave primaria de la tabla"
   ]
  },
  {
   "cell_type": "raw",
   "id": "0788fd15-380d-4ee1-ba46-0a48216d77c3",
   "metadata": {},
   "source": [
    "# CHECK\n",
    "\n",
    "CREATE TABLE personas5 (\n",
    "    id int NOT NULL,\n",
    "    name varchar(100) NOT NULL,\n",
    "    age int,\n",
    "    email varchar(50),\n",
    "    created date,\n",
    "    UNIQUE(id),\n",
    "    PRIMARY KEY(id),\n",
    "    CHECK(age>=18)\n",
    ");\n",
    "Criterio al hacer la tabla: Solo usuarios mayores de 18 anios"
   ]
  },
  {
   "cell_type": "raw",
   "id": "c3ea9f5f-a706-40a7-a1d2-b2aff9e26752",
   "metadata": {},
   "source": [
    "# DEFAULT\n",
    "\n",
    "CREATE TABLE personas6 (\n",
    "    id int NOT NULL,\n",
    "    name varchar(100) NOT NULL,\n",
    "    age int,\n",
    "    email varchar(50),\n",
    "    created datetime DEFAULT CURRENT_TIMESTAMP(),\n",
    "    UNIQUE(id),\n",
    "    PRIMARY KEY(id),\n",
    "    CHECK(age>=18)\n",
    ");\n",
    "Valor por defecto. En este caso intenta traer a la fecha y hora del sistema"
   ]
  },
  {
   "cell_type": "raw",
   "id": "dba86542-0516-425a-90c7-69ceded2900d",
   "metadata": {},
   "source": [
    "# AUTO_INCREMENT\n",
    "\n",
    "CREATE TABLE personas7 (\n",
    "    id int NOT NULL AUTO_INCREMENT,\n",
    "    name varchar(100) NOT NULL,\n",
    "    age int,\n",
    "    email varchar(50),\n",
    "    created datetime DEFAULT CURRENT_TIMESTAMP(),\n",
    "    UNIQUE(id),\n",
    "    PRIMARY KEY(id),\n",
    "    CHECK(age>=18)\n",
    ");\n",
    "El numero de ID incrementa en automatico"
   ]
  },
  {
   "cell_type": "raw",
   "id": "1f40306e-25f6-4539-a764-d25d96c82fa0",
   "metadata": {},
   "source": [
    "# DROP TABLE\n",
    "\n",
    "DROP TABLE persons7;\n",
    "Borrar una tabla"
   ]
  },
  {
   "cell_type": "raw",
   "id": "ba639272-b52e-49b7-b722-c8b8733746e5",
   "metadata": {},
   "source": [
    "'''*****ALTER TABLE*****''' Alterar una tabla\n",
    "\n",
    "CREATE TABLE personas7 (\n",
    "    id int NOT NULL AUTO_INCREMENT,\n",
    "    name varchar(100) NOT NULL,\n",
    "    age int,\n",
    "    email varchar(50),\n",
    "    created datetime DEFAULT CURRENT_TIMESTAMP(),\n",
    "    UNIQUE(id),\n",
    "    PRIMARY KEY(id),\n",
    "    CHECK(age>=18)\n",
    ");\n",
    "\n",
    "ALTER TABLE persons7;\n",
    "ADD surname varchar(150); (agregar nuevo campo)\n",
    "\n",
    "ALTER TABLE persons7;\n",
    "RENAME COLUMN surname TO descripcion; (de surname a descripcion)\n",
    "\n",
    "ALTER TABLE persons7;\n",
    "MODIFY COLUMN descripcion varchar(250); (de 150 a 250 caracteres)\n",
    "\n",
    "CREATE TABLE personas7 (\n",
    "    id int NOT NULL AUTO_INCREMENT,\n",
    "    name varchar(100) NOT NULL,\n",
    "    age int,\n",
    "    email varchar(50),\n",
    "    created datetime DEFAULT CURRENT_TIMESTAMP(),\n",
    "   *descripcion varchar(250)*\n",
    "    UNIQUE(id),\n",
    "    PRIMARY KEY(id),\n",
    "    CHECK(age>=18)\n",
    ");\n",
    "\n",
    "ALTER TABLE persons7;\n",
    "DROP COLUMN descripcion; (eliminar)"
   ]
  },
  {
   "cell_type": "raw",
   "id": "d09d121d-19f8-4290-9d25-28fa1f621b66",
   "metadata": {},
   "source": [
    "'''**********TIPOS DE RELACIONES**********'''\n",
    "Partimos de la base de que todos los elementos principales (primary key) en una tabla\n",
    "tienen un identificador (id)\n",
    "\n",
    "Relacion 1:1 (uno a uno)\n",
    "Un elemento de la tabla A solo puede relacionarse con uno de la tabla B,\n",
    "y viceversa.\n",
    "Ej. Un elemento X (tabla A) solo puede tener un elemento Y (tabla B),\n",
    "y un elemento Y solo puede estar asociado a un elemento X. \n",
    "El foreign key en tabla B es el id en tabla A."
   ]
  },
  {
   "cell_type": "raw",
   "id": "9a35cdfd-0c45-4d24-a639-7259ab7c14f4",
   "metadata": {},
   "source": [
    "Relacion 1:N (uno a varios)\n",
    "Un elemento en tabla A puede relacionarse a varios en tabla B.\n",
    "Ej. Una empresa en tabla A se relaciona a varios empleados en tabla B."
   ]
  },
  {
   "cell_type": "raw",
   "id": "59bd76ff-4ad6-4974-b7a6-fb9ae37c3707",
   "metadata": {},
   "source": [
    "Relacion N:M (muchos a muchos)\n",
    "Un id en A puede relacionarse a varios id's en B, la diferencia con la anterior\n",
    "es que aqui el mismo id en B puede relacionarse a varios id's en A.\n",
    "\n",
    "Ej. Programador 1 sabe lenguaje 1, 2 y 3. Programador 2 sabe lenguaje 1, 3 y 5.\n",
    "Y asi con mas miembros de las tablas.\n",
    "\n",
    "Se relacionan mediante una tabla intermedia que guarda los id's de A y B.\n",
    "Tabla A   Tabla intermedia (id A-id's en B)   Tabla B\n",
    "1                1-1,3,4                         1\n",
    "2                2-1,2                           2\n",
    "3                3-2                             3\n",
    "4                4-1,3,4                         4\n",
    "\n",
    "\n"
   ]
  },
  {
   "cell_type": "raw",
   "id": "7ec8f93d-bbbc-461a-b528-417792bae8be",
   "metadata": {},
   "source": [
    "Relacion de Autoreferencia\n",
    "\n",
    "Relacion que indica que un elemento de la tabla A puede relacionarse con otro\n",
    "registro de la tabla A.\n",
    "\n",
    "Ej. En una tabla donde se guardan los jefes en una empresa, el jefe de todos es el 5,\n",
    "el jefe 1 tiene como jefe al 5, el jefe 2 al 5, el jefe 3 al 4 y 5, el jefe 4 al 5."
   ]
  },
  {
   "cell_type": "raw",
   "id": "8f258fdd-64ca-45ee-bf46-582eeb8fb0ca",
   "metadata": {},
   "source": [
    "'''**********CREACION DE TABLAS RELACIONADAS**********'''"
   ]
  },
  {
   "cell_type": "raw",
   "id": "4a637a1a-e96d-409f-a029-560c4f8d84f8",
   "metadata": {},
   "source": [
    "# TABLA 1:1\n",
    "\n",
    "CREATE TABLE dni(\n",
    "    dni_id int AUTO_INCREMENT PRIMARY KEY,\n",
    "    dni_number int NOT NULL,\n",
    "    user_id int,\n",
    "    UNIQUE(dni_id),\n",
    "    FOREIGN KEY(user_id) REFERENCES users(user_id)\n",
    ");\n",
    "\n",
    "El FOREIGN KEY es el id en tabla users. y REFERENCES indica de que tabla\n",
    "y de que campo sacamos el foreign key."
   ]
  },
  {
   "cell_type": "raw",
   "id": "4d529562-8ede-48e9-a92f-5de9556ff272",
   "metadata": {},
   "source": [
    "# TABLA 1:N\n",
    "\n",
    "CREATE TABLE companies(\n",
    "    company_id int AUTO_INCREMENT PRIMARY KEY,\n",
    "    name varchar(100) NOT NUL\n",
    ");\n",
    "\n",
    "CREATE TABLE users (\n",
    "    user_id int NOT NULL AUTO_INCREMENT PRIMARY,\n",
    "    name varchar(50) NOT NULL,\n",
    "    surname varchar(100),\n",
    "    age int,\n",
    "    init_date date,\n",
    "    email varchar(50),\n",
    "    UNIQUE(user_id),\n",
    ");\n",
    "# Se agrega foreign key\n",
    "ALTER TABLE users\n",
    "ADD CONSTRAINT fk_companies  #fk es corto reservado para foreign key\n",
    "FOREIGN KEY(company_id) REFERENCES companies(company_id);"
   ]
  },
  {
   "cell_type": "raw",
   "id": "31c01140-898c-4bed-98c8-806ad914d162",
   "metadata": {},
   "source": [
    "# TABLA N:M\n",
    "\n",
    "CREATE TABLE users_languages(\n",
    "    users_language_id int AUTO_INCREMENT PRIMARY KEY,\n",
    "    user_id int NOT NULL,\n",
    "    language_id int NOT NULL,\n",
    "    FOREIGN KEY(user_id) REFERENCES users(user_id),\n",
    "    FOREIGN KEY(language_id) REFERENCES languages(language_id),\n",
    "    UNIQUE(user_id, language_id)\n",
    ");\n",
    "Esta tabla guarda los id's de otras dos tablas, y lo hace en formato FOREIGN KEY"
   ]
  },
  {
   "cell_type": "raw",
   "id": "baf695a6-4e8a-4586-a923-a64d940f5e6e",
   "metadata": {},
   "source": [
    "'''**********DATOS RELACIONADOS**********'''\n",
    "\n",
    "Datos 1:1       Campos a insertar    valores respectivos\n",
    "INSERT INTO dni(dni_number, user_id) VALUES(11111, 1);\n",
    "INSERT INTO dni(dni_number, user_id) VALUES(22222, 2);\n",
    "INSERT INTO dni(dni_number, user_id) VALUES(33333, 3);\n",
    "INSERT INTO dni(dni_number) VALUES(44444);"
   ]
  },
  {
   "cell_type": "raw",
   "id": "d6c95fc9-e875-48d7-a963-b7e684a77e21",
   "metadata": {},
   "source": [
    "Datos 1:N \n",
    "INSERT INTO companies(name) VALUES('Company uno');\n",
    "INSERT INTO companies(name) VALUES('Company dos');\n",
    "INSERT INTO companies(name) VALUES('Company tres');\n",
    "\n",
    "UPDATE users SET company_id = 1 WHERE user_id = 1;\n",
    "UPDATE users SET company_id = 2 WHERE user_id = 3;\n",
    "UPDATE users SET company_id = 3 WHERE user_id = 4;\n",
    "UPDATE users SET company_id = 4 WHERE user_id = 7;"
   ]
  },
  {
   "cell_type": "raw",
   "id": "988ed7bf-912c-479b-9762-1637e5e26d58",
   "metadata": {},
   "source": [
    "# Datos N:M\n",
    "\n",
    "INSERT INTO languages(name) VALUES('Python');\n",
    "INSERT INTO languages(name) VALUES('Swift');\n",
    "INSERT INTO languages(name) VALUES('Java');\n",
    "INSERT INTO languages(name) VALUES('Kotlin');\n",
    "INSERT INTO languages(name) VALUES('JavaScript');"
   ]
  },
  {
   "cell_type": "raw",
   "id": "3618259c-50cc-4f64-9a5d-81defe715955",
   "metadata": {},
   "source": [
    "'''**********CONSULTA DE RELACIONES**********'''\n",
    "\n",
    "# INNER JOIN (en la mayoria de base de datos es lo mismo que JOIN)\n",
    "Obtiene los datos comunes en dos tablas(cuando hay coincidencias en ambas tablas)\n",
    "\n",
    "# 1:1\n",
    "SELECT * FROM users\n",
    "INNER JOIN dni ON users.user_id = dni.user_id;\n",
    "\n",
    "Crea una tabla uniendo las dos tablas donde\n",
    "el user_id en tabla users sea igual al user_id en tabla dni\n",
    "\n",
    "SELECT name, dni_number FROM users\n",
    "JOIN dni ON users.user_id = dni.user_id\n",
    "ORDER BY age ASC;\n",
    "\n",
    "Selecciona nombre y numero de dni, los une como la anterior y los ordena por edad ascendente.\n",
    "Y mas."
   ]
  },
  {
   "cell_type": "raw",
   "id": "8167fb2b-0685-47b9-bc71-1aa727d11d8a",
   "metadata": {},
   "source": [
    "#1:N (ej. los usuarios trabajan en diferentes companias)\n",
    "SELECT * FROM users\n",
    "JOIN companies ON users.company_id = companies.company_id;\n",
    "\n",
    "SELECT companies.name, users.name FROM companies\n",
    "JOIN users ON companies.company_id = users.company_id;"
   ]
  },
  {
   "cell_type": "raw",
   "id": "c7ae656f-bddb-4bba-9455-e4415061e983",
   "metadata": {},
   "source": [
    "Join de tres tablas \n",
    "\n",
    "# TABLA N:M\n",
    "\n",
    "CREATE TABLE users_languages(\n",
    "    users_language_id int AUTO_INCREMENT PRIMARY KEY,\n",
    "    user_id int NOT NULL,\n",
    "    language_id int NOT NULL,\n",
    "    FOREIGN KEY(user_id) REFERENCES users(user_id),\n",
    "    FOREIGN KEY(language_id) REFERENCES languages(language_id),\n",
    "    UNIQUE(user_id, language_id)\n",
    ");\n",
    "\n",
    "SELECT *\n",
    "FROM users_languages(1)\n",
    "JOIN users(2) ON users_languages.user_id = users.user_id\n",
    "JOIN languages(3) ON users_languages.language_id = languages.language_id;\n",
    "\n",
    "Une tabla (1) con tabla (2) segun la condicion, y tabla (1) con tabla (3) segun la condicion.\n",
    "Y forma nueva tabla con todos los campos.\n",
    "\n",
    "SELECT users.name, languages.name\n",
    "FROM users_languages\n",
    "JOIN users ON users_languages.user_id = users.user_id\n",
    "JOIN languages ON users_languages.language_id = languages.language_id;\n",
    "\n",
    "Se crea una nueva tabla donde se muestran los nombres relacionados por las condiciones"
   ]
  },
  {
   "cell_type": "raw",
   "id": "a03f184e-9b8b-459b-9a73-5829db79ccc3",
   "metadata": {},
   "source": [
    "# LEFT JOIN (LEFT OUTER JOIN en otras bases de datos)\n",
    "Se queda con los datos de la tabla izquierda (la primera)\n",
    "\n",
    "SELECT * FROM users\n",
    "LEFT JOIN dni \n",
    "ON users.user_id = dni.user_id;\n",
    "\n",
    "SELECT name, dni_number FROM users\n",
    "LEFT JOIN dni \n",
    "ON users.user_id = dni.user_id;\n",
    "\n",
    "SELECT users.name, languages.name\n",
    "FROM users_languages\n",
    "LEFT JOIN users ON users_languages.user_id = users.user_id\n",
    "LEFT JOIN languages ON users_languages.language_id = languages.language_id;"
   ]
  },
  {
   "cell_type": "raw",
   "id": "1eae2d0a-3989-4d25-b53f-b1b2ac81f766",
   "metadata": {},
   "source": [
    "# RIGHT JOIN (RIGHT OUTER JOIN en otras bases de datos)\n",
    "Se queda con los datos de la tabla derecha (la segunda)\n",
    "\n",
    "SELECT * FROM users\n",
    "RIGHT JOIN dni \n",
    "ON users.user_id = dni.user_id;\n",
    "\n",
    "SELECT users.name, languages.name\n",
    "FROM users_languages\n",
    "RIGHT JOIN users ON users_languages.user_id = users.user_id\n",
    "RIGHT JOIN languages ON users_languages.language_id = languages.language_id;"
   ]
  },
  {
   "cell_type": "raw",
   "id": "38c80d70-da57-4735-838d-55b49b2a2164",
   "metadata": {},
   "source": [
    "# FULL JOIN (FULL OUTER JOIN en otras bases de datos)\n",
    "Se queda con todo, haya datos o no\n",
    "En mySQL no existe\n",
    "\n",
    "SELECT * FROM users\n",
    "FULL JOIN dni \n",
    "ON users.user_id = dni.user_id;\n",
    "\n",
    "SELECT users.name, languages.name\n",
    "FROM users_languages\n",
    "FULL JOIN users ON users_languages.user_id = users.user_id\n",
    "FULL JOIN languages ON users_languages.language_id = languages.language_id;"
   ]
  },
  {
   "cell_type": "raw",
   "id": "7a70e294-3ea5-4a9e-946c-39e0698a22fc",
   "metadata": {},
   "source": [
    "# UNION\n",
    "-- elimina duplicados\n",
    "\n",
    "-- Obtiene todos los id de usuarios de las tablas dni y usuarios (exista o no relación)\n",
    "\n",
    "SELECT users.user_id AS u_user_id, dni.user_id AS d_user_id\n",
    "FROM users\n",
    "LEFT JOIN dni\n",
    "ON users.user_id = dni.user_id\n",
    "UNION\n",
    "SELECT users.user_id AS user_id, dni.user_id AS d_user_id\n",
    "FROM users\n",
    "RIGHT JOIN dni\n",
    "ON users.user_id = dni.user_id;\n",
    "\n",
    "-- Obtiene todos los datos de las tablas dni y usuarios (exista o no relación)\n",
    "SELECT *\n",
    "FROM users\n",
    "LEFT JOIN dni\n",
    "ON users.user_id = dni.user_id\n",
    "UNION\n",
    "SELECT *\n",
    "FROM users\n",
    "RIGHT JOIN dni\n",
    "ON users.user_id = dni.user_id;\n",
    "\n",
    "-- UNION ALL mantiene duplicados"
   ]
  },
  {
   "cell_type": "raw",
   "id": "96d96912-63bc-4a01-8511-7433a81e06d4",
   "metadata": {},
   "source": [
    "'''**********CONCEPTOS AVANZADOS**********'''"
   ]
  },
  {
   "cell_type": "raw",
   "id": "e3808f5a-1b0c-4690-8b1a-7e886658dc6e",
   "metadata": {},
   "source": [
    "# INDEX\n",
    "-- Nos permite indexar la tabla\n",
    "-- Hace que la tabla pese mas.\n",
    "-- La lectura de datos es mas rapida, la escritura es mas lenta.\n",
    "\n",
    "CREATE INDEX idx_name ON users(name); \n",
    "-- La convencion es usar el prefijo idx_ seguido del nombre del campo.\n",
    "\n",
    "CREATE UNIQUE INDEX idx_name ON users(name);\n",
    "\n",
    "CREATE UNIQUE INDEX idx_name_surname ON users(name, surname);\n",
    "\n",
    "DROP INDEX idx_name ON users;\n",
    "-- Borra el index"
   ]
  },
  {
   "cell_type": "raw",
   "id": "e00fc782-a8b2-4fec-9e9b-8f46216e7f1c",
   "metadata": {},
   "source": [
    "# TRIGGER\n",
    "\n",
    "-- Instrucciones que se ejecutan automaticamente tras un evento en la tabla.\n",
    "\n",
    "CREATE TABLE 'nombre_de_database' 'email_history' (\n",
    "    'email_history_id' INT NOT NULL,\n",
    "    'user_id' INT NOT NULL,\n",
    "    'email' VARCHAR(100),\n",
    "    PRIMARY KEY ('email_history_id'),\n",
    "    UNIQUE INDEX ('email_history_id)'\n",
    ");\n",
    "\n",
    "ALTER TABLE 'email_history'\n",
    "CHANGE COLUMN 'email_history_id' 'email_history_id' INT NOT NULL AUTO_INCREMENT;\n",
    "\n",
    "Resultado:\n",
    "TABLE 'email_history' (\n",
    "    'email_history_id' INT NOT NULL AUTO_INCREMENT,\n",
    "    'user_id' INT NOT NULL,\n",
    "    'email' VARCHAR(100),\n",
    "    PRIMARY KEY ('email_history_id'),\n",
    "    UNIQUE INDEX 'email_history_id_UNIQUE' ('email_history_id ASC) VISIBLE'\n",
    ");\n",
    "\n",
    "-- Crea un trigger llamado \"tg_email\" que guarda el email previo en la tabla \"email_history\"\n",
    "despues(AFTER) que se actualiza(UPDATE) el campo \"email\" en la tabla \"users\".\n",
    "\n",
    "-- DELIMITER es una directiva que guarda la referencia por separado.\n",
    "Se utiliza cuando se define un bloque de código como un procedimiento donde se requieren múltiples \n",
    "instrucciones SQL terminadas con punto y coma dentro de un mismo bloque.\n",
    "\n",
    "delimiter //\n",
    "\n",
    "CREATE TRIGGER tg_email\n",
    "AFTER UPDATE ON users\n",
    "FOR EACH ROW\n",
    "BEGIN\n",
    "\tIF OLD.email <> NEW.email THEN\n",
    "\t\tINSERT INTO email_history (user_id, email) #campos\n",
    "        VALUES (OLD.user_id, OLD.email); #values\n",
    "\tEND IF;\n",
    "END;\n",
    "\n",
    "//\n",
    "\n",
    "-- Restablesco el delimitador\n",
    "delimiter ;\n",
    "\n",
    "-- Actualiza el campo \"email\" del usuario 1 en la tabla \"users\" para probar el trigger.\n",
    "UPDATE users SET email = 'mouredev@gmail.com' WHERE user_id = 1\n",
    "\n",
    "-- Cambios en tabla email_history tras la activacion del trigger\n",
    "en el cambio de email en la tabla users.\n",
    "\n",
    "email_history_id   user_id   email\n",
    "1                  1         \n",
    "2                  1         correo@viejo.com\n",
    "\n",
    "-- Elimina el trigger llamado \"tg_email\"\n",
    "DROP TRIGGER tg_email;"
   ]
  },
  {
   "cell_type": "raw",
   "id": "bfc917e3-9210-4dc7-9d84-bc5c9ccb549b",
   "metadata": {},
   "source": [
    "# VIEW\n",
    "\n",
    "-- Representacion virtual de una tabla. Tiene sentido si una tabla se consulta habitualmente.\n",
    "-- Si cambia la tabla que afecta a la vista, esta cambia.\n",
    "-- Podemos usarla para filtrar informacion que usamos seguido.\n",
    "\n",
    "CREATE VIEW v_mayores_edad AS <-- Tabla a la que se le asociara\n",
    "SELECT name, age\n",
    "FROM users\n",
    "WHERE age >= 18;\n",
    "\n",
    "-- Accedo a la vista.\n",
    "SELECT * FROM v_mayores_edad;\n",
    "\n",
    "DROP VIEW v_mayores_edad;"
   ]
  },
  {
   "cell_type": "raw",
   "id": "4b06de52-34f9-433c-abc7-494556abd6a2",
   "metadata": {},
   "source": [
    "# STORED PROCEDURE\n",
    "\n",
    "-- Una query que guardamos en favoritos.\n",
    "\n",
    "DELIMITER //\n",
    "\n",
    "CREATE PROCEDURE p_all_users()\n",
    "BEGIN\n",
    "\tSELECT * FROM users;\n",
    "\n",
    "END//\n",
    "\n",
    "-- Invoca al procedimiento almacenado llamado \"p_all_users\"\n",
    "CALL p_all_users;\n",
    "\n",
    "-- Crea un procedimiento almacenado llamado \"p_age_users\" parametrizado para\n",
    "obtener usuarios con edad variable\n",
    "DELIMITER //\n",
    "CREATE PROCEDURE p_age_users(IN age_param int)  # condicional, parametro, tipo\n",
    "BEGIN\n",
    "\tSELECT * FROM users WHERE age = age_param;\n",
    "END//\n",
    "\n",
    "-- Invoca al procedimiento almacenado llamado \"p_age_users\" con un parámetro de valor 30\n",
    "CALL p_age_users(30);"
   ]
  },
  {
   "cell_type": "raw",
   "id": "f7322b16-5d1c-4718-a2bc-d5469790f262",
   "metadata": {},
   "source": [
    "# TRANSACTION\n",
    "\n",
    "-- Se ejecuta en un bloque aparte, y se guarda manualmente, o se borra.\n",
    "\n",
    "START TRANSACTION\n",
    "-- Inicia una nueva transacción. Desde este punto, todas las modificaciones realizadas en la\n",
    "base de datos son temporales y solo son visibles dentro de esta transacción.\n",
    "\n",
    "COMMIT\n",
    "-- Finaliza una transacción con éxito. Cuando se ejecuta, todos los cambios realizados en la\n",
    "base de datos durante la transacción actual se hacen permanentes y visibles.\n",
    "\n",
    "ROLLB ACK\n",
    "-- Deshace las operaciones realizadas en una transacción, revirtiendo la base de datos\n",
    "al estado en que se encontraba antes de iniciar la transacción."
   ]
  },
  {
   "cell_type": "raw",
   "id": "bacba64d-9bff-47f3-bd4b-a62f1f650903",
   "metadata": {},
   "source": [
    "# CONNECTORS\n",
    "\n",
    "-- Ejemplo de conexión desde Python a una base de datos local\n",
    "-- Se ejemplifica cómo evitar SQL INJECTION\n",
    "\n",
    "import mysql.connector\n",
    "\n",
    "def print_user(user):\n",
    "    config = {\n",
    "        \"host\": \"127.0.0.1\",\n",
    "        \"port\": \"3306\",\n",
    "        \"database\": \"hello_mysql\",\n",
    "        \"user\": \"root\",\n",
    "        \"password\": \"root1234\"\n",
    "    }\n",
    "    # config = {\n",
    "    #     \"host\": \"bpw0hq9h09e7mqicjhtl-mysql.services.clever-cloud.com\",\n",
    "    #     \"port\": \"3306\",\n",
    "    #     \"database\": \"bpw0hq9h09e7mqicjhtl\",\n",
    "    #     \"user\": \"uqzby88erlhvkrty\",\n",
    "    #     \"password\": \"oePXiCOHdU1WRV80NPyv\"\n",
    "    # }\n",
    "\n",
    "    connection = mysql.connector.connect(**config)\n",
    "    cursor = connection.cursor()\n",
    "    query = \"SELECT * FROM users WHERE name=%s;\"\n",
    "    print(query)\n",
    "    cursor.execute(query, (user,))\n",
    "    result = cursor.fetchall()\n",
    "\n",
    "    for row in result:\n",
    "        print(row)\n",
    "\n",
    "    cursor.close()\n",
    "    connection.close()\n",
    "\n",
    "print_user(\"Brais\")\n",
    "# print_user(\"'; UPDATE users SET age = '15' WHERE user_id = 1; --\")"
   ]
  }
 ],
 "metadata": {
  "kernelspec": {
   "display_name": "Python 3 (ipykernel)",
   "language": "python",
   "name": "python3"
  },
  "language_info": {
   "codemirror_mode": {
    "name": "ipython",
    "version": 3
   },
   "file_extension": ".py",
   "mimetype": "text/x-python",
   "name": "python",
   "nbconvert_exporter": "python",
   "pygments_lexer": "ipython3",
   "version": "3.9.19"
  }
 },
 "nbformat": 4,
 "nbformat_minor": 5
}
