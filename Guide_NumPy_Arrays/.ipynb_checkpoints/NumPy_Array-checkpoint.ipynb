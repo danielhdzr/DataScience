{
 "cells": [
  {
   "cell_type": "code",
   "execution_count": 1,
   "id": "e6ca2744-9fad-4190-b7e0-6be56ae68cf1",
   "metadata": {},
   "outputs": [
    {
     "name": "stdout",
     "output_type": "stream",
     "text": [
      "[0 1 2 3 4 5 6 7]\n",
      "<class 'numpy.ndarray'>\n"
     ]
    }
   ],
   "source": [
    "import numpy as np\n",
    "# Un array es un conjunto de datos del mismo tipo\n",
    "# Una lista es '' '' '' que pueden ser de diferente tipo\n",
    "# Creacion de un array\n",
    "my_array = np.arange(8)\n",
    "print(my_array)\n",
    "print(type(my_array))"
   ]
  },
  {
   "cell_type": "code",
   "execution_count": 2,
   "id": "1f37fbc7-edd2-44dd-8344-f674b5ecc72f",
   "metadata": {},
   "outputs": [
    {
     "name": "stdout",
     "output_type": "stream",
     "text": [
      "[1 2 3 4 5 6 7 8]\n"
     ]
    }
   ],
   "source": [
    "# arange() crea un array dentro de un rango\n",
    "my_array = np.arange(1, 9)\n",
    "print(my_array)"
   ]
  },
  {
   "cell_type": "code",
   "execution_count": 3,
   "id": "7f6de217-7a34-42f7-a68a-6bbd122f5c08",
   "metadata": {},
   "outputs": [
    {
     "name": "stdout",
     "output_type": "stream",
     "text": [
      "[1 3 5 7]\n"
     ]
    }
   ],
   "source": [
    "# Impares / odd\n",
    "my_array = np.arange(1, 9, 2)\n",
    "print(my_array)"
   ]
  },
  {
   "cell_type": "code",
   "execution_count": 4,
   "id": "173cd865-fee0-420f-94a1-367153828e48",
   "metadata": {},
   "outputs": [
    {
     "name": "stdout",
     "output_type": "stream",
     "text": [
      "[2 4 6 8]\n"
     ]
    }
   ],
   "source": [
    "# Pares / even\n",
    "my_array = np.arange(1, 9)\n",
    "print(my_array[1:: 2])"
   ]
  },
  {
   "cell_type": "code",
   "execution_count": 5,
   "id": "fa78afa6-f5f3-4915-b6b0-d27d1e227906",
   "metadata": {},
   "outputs": [
    {
     "name": "stdout",
     "output_type": "stream",
     "text": [
      "[1.  1.5 2.  2.5 3.  3.5 4.  4.5 5.  5.5 6.  6.5 7.  7.5]\n"
     ]
    }
   ],
   "source": [
    "my_array = np.arange(1, 8, 0.5)\n",
    "print(my_array)"
   ]
  },
  {
   "cell_type": "code",
   "execution_count": 6,
   "id": "9ccb1dbd-0806-48b2-b6e8-61d22417ee40",
   "metadata": {},
   "outputs": [
    {
     "name": "stdout",
     "output_type": "stream",
     "text": [
      "[-1.  -0.5  0.   0.5  1.   1.5  2.   2.5  3.   3.5  4.   4.5  5.   5.5\n",
      "  6.   6.5  7.   7.5  8.   8.5  9. ]\n"
     ]
    }
   ],
   "source": [
    "my_array = np.arange(-1, 9.25, 0.5)\n",
    "print(my_array)"
   ]
  },
  {
   "cell_type": "code",
   "execution_count": 7,
   "id": "0e6dfb1b-0bdd-4a58-aaac-b509beb833db",
   "metadata": {},
   "outputs": [
    {
     "name": "stdout",
     "output_type": "stream",
     "text": [
      "<class 'numpy.int64'>\n"
     ]
    }
   ],
   "source": [
    "# Arrays from lists\n",
    "# array() es un consructor de arrays\n",
    "from_list = np.array([1, 2, 3])\n",
    "print(type(from_list[0]))"
   ]
  },
  {
   "cell_type": "code",
   "execution_count": 8,
   "id": "282e046d-0b2c-42b2-9d49-1ec884c921cf",
   "metadata": {},
   "outputs": [
    {
     "name": "stdout",
     "output_type": "stream",
     "text": [
      "<class 'numpy.int8'>\n"
     ]
    }
   ],
   "source": [
    "# Disminuir el espacio utilizado en memoria. Cambio a 8 bits\n",
    "from_list = np.array([1, 2, 3], dtype=np.int8)\n",
    "print(type(from_list[0]))"
   ]
  },
  {
   "cell_type": "code",
   "execution_count": 9,
   "id": "3c8a0acf-ffe9-41c0-aef0-ac3c317cd62f",
   "metadata": {},
   "outputs": [
    {
     "name": "stdout",
     "output_type": "stream",
     "text": [
      "[[1 2 3]\n",
      " [4 5 6]]\n"
     ]
    }
   ],
   "source": [
    "# 2D arrays\n",
    "from_list = np.array([[1, 2, 3], [4, 5, 6]], dtype=np.int8)\n",
    "print(from_list)"
   ]
  },
  {
   "cell_type": "code",
   "execution_count": 10,
   "id": "51a06fa5-ce91-4b80-8393-63692bfc75af",
   "metadata": {},
   "outputs": [
    {
     "name": "stdout",
     "output_type": "stream",
     "text": [
      "[[0 2 4 6]\n",
      " [1 3 5 7]]\n"
     ]
    }
   ],
   "source": [
    "# Imprime 2 filas y 4 columnas\n",
    "array_2d = np.array((np.arange(0, 8, 2), np.arange(1, 8, 2)))\n",
    "print(array_2d)"
   ]
  },
  {
   "cell_type": "code",
   "execution_count": 11,
   "id": "aaadb9f7-57a6-473d-99bf-9d43397ee98c",
   "metadata": {},
   "outputs": [
    {
     "name": "stdout",
     "output_type": "stream",
     "text": [
      "1D shape (21,)\n",
      "2D shape (2, 4)\n"
     ]
    }
   ],
   "source": [
    "# 1D imprime el # de columnas y 2D las filas y col.\n",
    "array_2d = np.array((np.arange(0, 8, 2), np.arange(1, 8, 2)))\n",
    "print(\"1D shape\", my_array.shape)  # Celda 6\n",
    "print(\"2D shape\", array_2d.shape)"
   ]
  },
  {
   "cell_type": "code",
   "execution_count": 12,
   "id": "cc0cc780-1912-45d4-af5a-4e56c9a861b0",
   "metadata": {},
   "outputs": [
    {
     "name": "stdout",
     "output_type": "stream",
     "text": [
      "2D shape [[0 2]\n",
      " [4 6]\n",
      " [1 3]\n",
      " [5 7]]\n"
     ]
    }
   ],
   "source": [
    "array_2d = array_2d.reshape((4, 2))  # fil, col\n",
    "print(\"2D shape\", array_2d)"
   ]
  },
  {
   "cell_type": "code",
   "execution_count": 13,
   "id": "32db5939-d998-4e18-a074-5fdf1173527f",
   "metadata": {},
   "outputs": [
    {
     "name": "stdout",
     "output_type": "stream",
     "text": [
      "[[[0 2]\n",
      "  [4 6]]\n",
      "\n",
      " [[1 3]\n",
      "  [5 7]]]\n"
     ]
    }
   ],
   "source": [
    "array_2d = array_2d.reshape((2, 2, 2))  # canales[[[]]], fil, col\n",
    "print(array_2d)"
   ]
  },
  {
   "cell_type": "code",
   "execution_count": 14,
   "id": "02008abf-553d-4677-a397-5611cbe5e989",
   "metadata": {},
   "outputs": [
    {
     "name": "stdout",
     "output_type": "stream",
     "text": [
      "[[0. 0.]\n",
      " [0. 0.]]\n"
     ]
    }
   ],
   "source": [
    "# Array con valores en cero\n",
    "empty_array = np.zeros((2, 2))\n",
    "print(empty_array)"
   ]
  },
  {
   "cell_type": "code",
   "execution_count": 15,
   "id": "b251ed95-f94d-42c4-91bc-0146cb9de153",
   "metadata": {},
   "outputs": [
    {
     "name": "stdout",
     "output_type": "stream",
     "text": [
      "[[1. 1.]\n",
      " [1. 1.]]\n"
     ]
    }
   ],
   "source": [
    "empty_array = np.ones((2, 2))\n",
    "print(empty_array)"
   ]
  },
  {
   "cell_type": "code",
   "execution_count": 16,
   "id": "ed876b62-f4bf-4001-9910-15e6d9bb2910",
   "metadata": {},
   "outputs": [
    {
     "name": "stdout",
     "output_type": "stream",
     "text": [
      "[[[0.0e+000 9.9e-324]\n",
      "  [2.0e-323 3.0e-323]]\n",
      "\n",
      " [[4.9e-324 1.5e-323]\n",
      "  [2.5e-323 3.5e-323]]]\n"
     ]
    }
   ],
   "source": [
    "# unexpected results\n",
    "empty_array = np.empty((2, 2, 2))\n",
    "print(empty_array)"
   ]
  },
  {
   "cell_type": "code",
   "execution_count": 17,
   "id": "40bff81b-0621-4a7f-b4f7-5e9345a25302",
   "metadata": {},
   "outputs": [
    {
     "name": "stdout",
     "output_type": "stream",
     "text": [
      "[[1. 0. 0.]\n",
      " [0. 1. 0.]\n",
      " [0. 0. 1.]]\n"
     ]
    }
   ],
   "source": [
    "# Main diagonal filled with ones\n",
    "eye_array = np.eye(3)\n",
    "print(eye_array)"
   ]
  },
  {
   "cell_type": "code",
   "execution_count": 18,
   "id": "a86a8fc9-bd63-488f-84ca-9b7aaa6185fd",
   "metadata": {},
   "outputs": [
    {
     "name": "stdout",
     "output_type": "stream",
     "text": [
      "[[0. 0. 0.]\n",
      " [1. 0. 0.]\n",
      " [0. 1. 0.]]\n"
     ]
    }
   ],
   "source": [
    "# Starts one diagonal below\n",
    "eye_array = np.eye(3, k=-1)\n",
    "print(eye_array)"
   ]
  },
  {
   "cell_type": "code",
   "execution_count": 19,
   "id": "5a0746ee-aba8-45bc-9522-ae788c6d1920",
   "metadata": {},
   "outputs": [
    {
     "name": "stdout",
     "output_type": "stream",
     "text": [
      "[[0. 1. 0.]\n",
      " [0. 0. 1.]\n",
      " [0. 0. 0.]]\n"
     ]
    }
   ],
   "source": [
    "# Starts ona diagonal above\n",
    "eye_array = np.eye(3, k=1)\n",
    "print(eye_array)"
   ]
  },
  {
   "cell_type": "code",
   "execution_count": 20,
   "id": "56ebf02e-ed60-441f-afba-d9306269529a",
   "metadata": {},
   "outputs": [
    {
     "name": "stdout",
     "output_type": "stream",
     "text": [
      "[[2. 1. 2.]\n",
      " [2. 2. 1.]\n",
      " [2. 2. 2.]]\n"
     ]
    }
   ],
   "source": [
    "# Cambia ceros por 2\n",
    "eye_array = np.eye(3, k=1)\n",
    "eye_array[eye_array == 0] = 2\n",
    "print(eye_array)"
   ]
  },
  {
   "cell_type": "code",
   "execution_count": 21,
   "id": "2f053810-223b-47be-9a94-b29c8896182b",
   "metadata": {},
   "outputs": [
    {
     "name": "stdout",
     "output_type": "stream",
     "text": [
      "[[2. 9. 2.]\n",
      " [2. 2. 9.]\n",
      " [2. 2. 2.]]\n"
     ]
    }
   ],
   "source": [
    "# Menores que 2 ahora seran nueves\n",
    "eye_array = np.eye(3, k=1)\n",
    "eye_array[eye_array == 0] = 2\n",
    "eye_array[eye_array < 2] = 9\n",
    "print(eye_array)"
   ]
  },
  {
   "cell_type": "code",
   "execution_count": 22,
   "id": "4406ff8c-53ef-4ca7-9279-bb6abf9528b4",
   "metadata": {},
   "outputs": [
    {
     "name": "stdout",
     "output_type": "stream",
     "text": [
      "[[3. 3. 3.]\n",
      " [2. 2. 9.]\n",
      " [2. 2. 2.]]\n"
     ]
    }
   ],
   "source": [
    "# Primer row es ahora 3\n",
    "eye_array = np.eye(3, k=1)\n",
    "eye_array[eye_array == 0] = 2\n",
    "eye_array[eye_array < 2] = 9\n",
    "eye_array[0] = 3\n",
    "print(eye_array)"
   ]
  },
  {
   "cell_type": "code",
   "execution_count": 23,
   "id": "789224c5-4c23-46d2-8ab3-e58f2eee781b",
   "metadata": {},
   "outputs": [
    {
     "name": "stdout",
     "output_type": "stream",
     "text": [
      "[[3. 3. 3.]\n",
      " [3. 3. 3.]\n",
      " [2. 2. 2.]]\n"
     ]
    }
   ],
   "source": [
    "# Rows 0 y 1 son ahora 3\n",
    "eye_array = np.eye(3, k=1)\n",
    "eye_array[eye_array == 0] = 2\n",
    "eye_array[eye_array < 2] = 9\n",
    "eye_array[:2] = 3\n",
    "print(eye_array)"
   ]
  },
  {
   "cell_type": "code",
   "execution_count": 24,
   "id": "5200fb0e-30bd-4e58-9f40-16dac7b8d09f",
   "metadata": {},
   "outputs": [
    {
     "name": "stdout",
     "output_type": "stream",
     "text": [
      "[[2. 9. 2.]\n",
      " [3. 3. 3.]\n",
      " [3. 3. 3.]]\n"
     ]
    }
   ],
   "source": [
    "# rows 1 y 2 son ahora 3\n",
    "eye_array = np.eye(3, k=1)\n",
    "eye_array[eye_array == 0] = 2\n",
    "eye_array[eye_array < 2] = 9\n",
    "eye_array[1:] = 3\n",
    "print(eye_array)"
   ]
  },
  {
   "cell_type": "code",
   "execution_count": 25,
   "id": "1fb30888-5cab-49c8-b11a-a6c6bda5a6d4",
   "metadata": {},
   "outputs": [
    {
     "name": "stdout",
     "output_type": "stream",
     "text": [
      "[[2. 9. 2.]\n",
      " [2. 2. 9.]\n",
      " [3. 3. 3.]]\n"
     ]
    }
   ],
   "source": [
    "# Ultima row es ahora 3\n",
    "eye_array = np.eye(3, k=1)\n",
    "eye_array[eye_array == 0] = 2\n",
    "eye_array[eye_array < 2] = 9\n",
    "eye_array[2:] = 3\n",
    "print(eye_array)"
   ]
  },
  {
   "cell_type": "code",
   "execution_count": 26,
   "id": "acb23cd4-df01-493c-bd9c-94645b8be390",
   "metadata": {},
   "outputs": [
    {
     "name": "stdout",
     "output_type": "stream",
     "text": [
      "[[4. 9. 2.]\n",
      " [4. 2. 9.]\n",
      " [4. 3. 3.]]\n"
     ]
    }
   ],
   "source": [
    "# Primera columna tiene ahora cuatros\n",
    "eye_array = np.eye(3, k=1)\n",
    "eye_array[eye_array == 0] = 2\n",
    "eye_array[eye_array < 2] = 9\n",
    "eye_array[2:] = 3\n",
    "eye_array[:, 0] = 4\n",
    "print(eye_array)"
   ]
  },
  {
   "cell_type": "code",
   "execution_count": 27,
   "id": "c0950091-0373-4050-a8b6-1b00334c96c4",
   "metadata": {},
   "outputs": [
    {
     "name": "stdout",
     "output_type": "stream",
     "text": [
      "[[2. 9. 4.]\n",
      " [2. 2. 4.]\n",
      " [3. 3. 4.]]\n"
     ]
    }
   ],
   "source": [
    "# Ultima columna tiene ahora cuatros\n",
    "eye_array = np.eye(3, k=1)\n",
    "eye_array[eye_array == 0] = 2\n",
    "eye_array[eye_array < 2] = 9\n",
    "eye_array[2:] = 3\n",
    "eye_array[:, -1] = 4\n",
    "print(eye_array)"
   ]
  },
  {
   "cell_type": "code",
   "execution_count": 28,
   "id": "39645edb-6e9a-496d-af02-1e5ee10ff58a",
   "metadata": {},
   "outputs": [
    {
     "name": "stdout",
     "output_type": "stream",
     "text": [
      "[[2. 9. 2.]\n",
      " [4. 4. 9.]\n",
      " [4. 4. 3.]]\n"
     ]
    }
   ],
   "source": [
    "# Filas 1 y 2, y columnas 0 y 1, tienen cuatros ahora\n",
    "eye_array = np.eye(3, k=1)\n",
    "eye_array[eye_array == 0] = 2\n",
    "eye_array[eye_array < 2] = 9\n",
    "eye_array[2:] = 3\n",
    "eye_array[1:, :2] = 4\n",
    "print(eye_array)"
   ]
  },
  {
   "cell_type": "code",
   "execution_count": 29,
   "id": "dcea6896-98fc-431e-9d96-5ab589c1da51",
   "metadata": {},
   "outputs": [
    {
     "name": "stdout",
     "output_type": "stream",
     "text": [
      "[[2. 2. 9.]\n",
      " [4. 4. 9.]\n",
      " [3. 4. 4.]]\n"
     ]
    }
   ],
   "source": [
    "# Ordena de menor a mayor por fila\n",
    "sorted_array = np.sort(eye_array)\n",
    "print(sorted_array)"
   ]
  },
  {
   "cell_type": "code",
   "execution_count": 30,
   "id": "5a6a057d-8312-47f1-8004-33e3231904f9",
   "metadata": {},
   "outputs": [
    {
     "name": "stdout",
     "output_type": "stream",
     "text": [
      "[[2. 4. 2.]\n",
      " [4. 4. 3.]\n",
      " [4. 9. 9.]]\n"
     ]
    }
   ],
   "source": [
    "# Ordena de menor a mayor por columna\n",
    "# axis 0 columna, axis 1 fila\n",
    "sorted_array = np.sort(eye_array, axis=0)\n",
    "print(sorted_array)"
   ]
  },
  {
   "cell_type": "code",
   "execution_count": 31,
   "id": "ad8f6f1f-2691-498a-bedb-5c6e46d7be53",
   "metadata": {},
   "outputs": [
    {
     "name": "stdout",
     "output_type": "stream",
     "text": [
      "[[2. 4. 2.]\n",
      " [4. 4. 3.]\n",
      " [4. 9. 9.]]\n"
     ]
    }
   ],
   "source": [
    "# Otro tipo de algoritmo para ordenar (notable en conjuntos mas grandes)\n",
    "sorted_array = np.sort(eye_array, axis=0, kind=\"mergesort\")\n",
    "print(sorted_array)"
   ]
  },
  {
   "cell_type": "code",
   "execution_count": 34,
   "id": "ff076f7e-abaf-43b7-b01a-914fd8480eee",
   "metadata": {},
   "outputs": [
    {
     "name": "stdout",
     "output_type": "stream",
     "text": [
      "Original \n",
      " [[2. 4. 2.]\n",
      " [4. 4. 3.]\n",
      " [4. 9. 9.]]\n",
      "View copy \n",
      " [[4. 4. 4.]\n",
      " [4. 4. 4.]\n",
      " [4. 4. 4.]]\n",
      "Original despues del view [[4. 4. 4.]\n",
      " [4. 4. 4.]\n",
      " [4. 4. 4.]]\n"
     ]
    }
   ],
   "source": [
    "# Copy arrays metodo 1 view\n",
    "sorted_array = np.sort(eye_array, axis=0)\n",
    "print(\"Original \\n\", sorted_array)\n",
    "my_view = sorted_array.view()\n",
    "my_view[:] = 4\n",
    "print(\"View copy \\n\", my_view)\n",
    "print(\"Original despues del view \\n\", sorted_array)"
   ]
  },
  {
   "cell_type": "code",
   "execution_count": 36,
   "id": "4d9dc4a6-18ea-49df-85ad-8f0b76096593",
   "metadata": {},
   "outputs": [
    {
     "name": "stdout",
     "output_type": "stream",
     "text": [
      "Original\n",
      " [[2. 4. 2.]\n",
      " [4. 4. 3.]\n",
      " [4. 9. 9.]]\n",
      "Copy\n",
      " [[5. 5. 5.]\n",
      " [5. 5. 5.]\n",
      " [5. 5. 5.]]\n",
      "Original despues del copy \n",
      " [[2. 4. 2.]\n",
      " [4. 4. 3.]\n",
      " [4. 9. 9.]]\n"
     ]
    }
   ],
   "source": [
    "# metodo 2 copy\n",
    "sorted_array = np.sort(eye_array, axis=0)\n",
    "print(\"Original\\n\", sorted_array)\n",
    "my_copy = sorted_array.copy()\n",
    "my_copy[:] = 5\n",
    "print(\"Copy\\n\", my_copy)\n",
    "print(\"Original despues del copy \\n\", sorted_array)"
   ]
  },
  {
   "cell_type": "code",
   "execution_count": null,
   "id": "c5e8ed5a-73c3-4d12-9fe5-48a10ff1e87a",
   "metadata": {},
   "outputs": [],
   "source": []
  }
 ],
 "metadata": {
  "kernelspec": {
   "display_name": "Python 3 (ipykernel)",
   "language": "python",
   "name": "python3"
  },
  "language_info": {
   "codemirror_mode": {
    "name": "ipython",
    "version": 3
   },
   "file_extension": ".py",
   "mimetype": "text/x-python",
   "name": "python",
   "nbconvert_exporter": "python",
   "pygments_lexer": "ipython3",
   "version": "3.9.19"
  }
 },
 "nbformat": 4,
 "nbformat_minor": 5
}
