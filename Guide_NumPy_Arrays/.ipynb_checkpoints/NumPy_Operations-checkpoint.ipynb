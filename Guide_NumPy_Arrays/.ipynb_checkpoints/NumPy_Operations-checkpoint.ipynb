{
 "cells": [
  {
   "cell_type": "code",
   "execution_count": 1,
   "id": "2c181cb2-b97e-4f5a-9234-d5ab77075360",
   "metadata": {},
   "outputs": [],
   "source": [
    "import numpy as np"
   ]
  },
  {
   "cell_type": "code",
   "execution_count": 2,
   "id": "a495d020-26bc-40cc-8f96-5c31da337c17",
   "metadata": {},
   "outputs": [
    {
     "name": "stdout",
     "output_type": "stream",
     "text": [
      "[[2. 2. 2.]\n",
      " [2. 2. 2.]\n",
      " [2. 2. 2.]]\n",
      "float64\n"
     ]
    }
   ],
   "source": [
    "# 2D array\n",
    "a = np.zeros((3, 3))\n",
    "# All rows to 2\n",
    "a[:] = 2\n",
    "print(a)\n",
    "print(a.dtype)"
   ]
  },
  {
   "cell_type": "code",
   "execution_count": 3,
   "id": "78d9c446-4a85-4265-87ca-23cd49737ba2",
   "metadata": {},
   "outputs": [
    {
     "name": "stdout",
     "output_type": "stream",
     "text": [
      "[[1 2 3]\n",
      " [4 5 6]\n",
      " [7 8 9]]\n",
      "int64\n"
     ]
    }
   ],
   "source": [
    "# Array 3x3\n",
    "b = np.arange(1, 10).reshape((3, 3))\n",
    "print(b)\n",
    "print(b.dtype)"
   ]
  },
  {
   "cell_type": "code",
   "execution_count": 4,
   "id": "f8ca872c-a299-444d-b636-5f6a6c631693",
   "metadata": {},
   "outputs": [
    {
     "name": "stdout",
     "output_type": "stream",
     "text": [
      "[[2 2 2]\n",
      " [2 2 2]\n",
      " [2 2 2]]\n",
      "int64\n"
     ]
    }
   ],
   "source": [
    "# Convierto a a int\n",
    "a = np.zeros((3, 3), dtype=np.int64)\n",
    "a[:] = 2\n",
    "print(a)\n",
    "print(a.dtype)"
   ]
  },
  {
   "cell_type": "code",
   "execution_count": 5,
   "id": "4a143d19-8a54-4360-8f21-c93d0099d4ab",
   "metadata": {},
   "outputs": [
    {
     "name": "stdout",
     "output_type": "stream",
     "text": [
      "Array A\n",
      " [[8 8 8]\n",
      " [8 8 8]\n",
      " [8 8 8]]\n"
     ]
    }
   ],
   "source": [
    "# metodo .fill() fills array with values\n",
    "a = np.zeros((3, 3), dtype=np.int64)\n",
    "a[:] = 2\n",
    "a.fill(8)\n",
    "print(\"Array A\\n\", a)"
   ]
  },
  {
   "cell_type": "code",
   "execution_count": 6,
   "id": "b672def1-1f95-44aa-9844-4eb8969223bd",
   "metadata": {},
   "outputs": [
    {
     "name": "stdout",
     "output_type": "stream",
     "text": [
      "Array A\n",
      " [[11 11 11]\n",
      " [11 11 11]\n",
      " [11 11 11]]\n"
     ]
    }
   ],
   "source": [
    "# Assignement operator\n",
    "a = np.zeros((3, 3), dtype=np.int64)\n",
    "a[:] = 2\n",
    "a.fill(8)\n",
    "a += 3\n",
    "print(\"Array A\\n\", a)"
   ]
  },
  {
   "cell_type": "code",
   "execution_count": 7,
   "id": "27d0bf01-7320-4c6a-9e9d-d5a51d694922",
   "metadata": {},
   "outputs": [
    {
     "ename": "UFuncTypeError",
     "evalue": "Cannot cast ufunc 'divide' output from dtype('float64') to dtype('int64') with casting rule 'same_kind'",
     "output_type": "error",
     "traceback": [
      "\u001b[1;31m---------------------------------------------------------------------------\u001b[0m",
      "\u001b[1;31mUFuncTypeError\u001b[0m                            Traceback (most recent call last)",
      "Cell \u001b[1;32mIn[7], line 4\u001b[0m\n\u001b[0;32m      2\u001b[0m a[:] \u001b[38;5;241m=\u001b[39m \u001b[38;5;241m2\u001b[39m\n\u001b[0;32m      3\u001b[0m a\u001b[38;5;241m.\u001b[39mfill(\u001b[38;5;241m8\u001b[39m)\n\u001b[1;32m----> 4\u001b[0m a \u001b[38;5;241m/\u001b[39m\u001b[38;5;241m=\u001b[39m \u001b[38;5;241m3\u001b[39m  \u001b[38;5;66;03m# Problema al dividir int y resultar un float\u001b[39;00m\n\u001b[0;32m      5\u001b[0m \u001b[38;5;28mprint\u001b[39m(\u001b[38;5;124m\"\u001b[39m\u001b[38;5;124mArray A\u001b[39m\u001b[38;5;130;01m\\n\u001b[39;00m\u001b[38;5;124m\"\u001b[39m, a)\n",
      "\u001b[1;31mUFuncTypeError\u001b[0m: Cannot cast ufunc 'divide' output from dtype('float64') to dtype('int64') with casting rule 'same_kind'"
     ]
    }
   ],
   "source": [
    "a = np.zeros((3, 3), dtype=np.int64)\n",
    "a[:] = 2\n",
    "a.fill(8)\n",
    "a /= 3  # Problema al dividir int y resultar un float\n",
    "print(\"Array A\\n\", a)"
   ]
  },
  {
   "cell_type": "code",
   "execution_count": 8,
   "id": "1916e056-b5f1-4515-aa7e-c59f81b4aed5",
   "metadata": {},
   "outputs": [
    {
     "name": "stdout",
     "output_type": "stream",
     "text": [
      "Array A\n",
      " [[2.66666667 2.66666667 2.66666667]\n",
      " [2.66666667 2.66666667 2.66666667]\n",
      " [2.66666667 2.66666667 2.66666667]]\n"
     ]
    }
   ],
   "source": [
    "# Problema solucionado quitando el hardcoding de dtype\n",
    "a = np.zeros((3, 3))\n",
    "a[:] = 2\n",
    "a.fill(8)\n",
    "a /= 3\n",
    "print(\"Array A\\n\", a)"
   ]
  },
  {
   "cell_type": "code",
   "execution_count": 9,
   "id": "b26c7a69-99b0-4187-8fcd-cecde2de077f",
   "metadata": {},
   "outputs": [
    {
     "name": "stdout",
     "output_type": "stream",
     "text": [
      "Array A\n",
      " [[2 2 2]\n",
      " [2 2 2]\n",
      " [2 2 2]]\n",
      "18\n"
     ]
    }
   ],
   "source": [
    "# Metodos aritmeticos\n",
    "a = np.zeros((3, 3), dtype=np.int64)\n",
    "a.fill(2)\n",
    "# Suma todo el array\n",
    "array_sum = a.sum()\n",
    "print(\"Array A\\n\", a)\n",
    "print(array_sum)"
   ]
  },
  {
   "cell_type": "code",
   "execution_count": 10,
   "id": "41369978-ec61-4531-bd25-a671c19d48c5",
   "metadata": {},
   "outputs": [
    {
     "name": "stdout",
     "output_type": "stream",
     "text": [
      "Array B\n",
      " [[1 2 3]\n",
      " [4 5 6]\n",
      " [7 8 9]] \n",
      "\n",
      "[12 15 18]\n"
     ]
    }
   ],
   "source": [
    "# Suma cada columna (0 = col) (1 = fila)\n",
    "array_sum = b.sum(axis=0)\n",
    "print(\"Array B\\n\", b, \"\\n\")\n",
    "print(array_sum)"
   ]
  },
  {
   "cell_type": "code",
   "execution_count": 11,
   "id": "e648fecf-2fb1-4a85-a4a5-d136c07ec476",
   "metadata": {},
   "outputs": [
    {
     "name": "stdout",
     "output_type": "stream",
     "text": [
      "Array A\n",
      " [[2 2 2]\n",
      " [2 2 2]\n",
      " [2 2 2]]\n",
      "512\n"
     ]
    }
   ],
   "source": [
    "# Producto. Multiply all items by one another\n",
    "array_product = a.prod()\n",
    "print(\"Array A\\n\", a)\n",
    "print(array_product)  # 2^9"
   ]
  },
  {
   "cell_type": "code",
   "execution_count": 12,
   "id": "2fd7dabf-ca9c-456a-8cfc-8420563f2b0c",
   "metadata": {},
   "outputs": [
    {
     "name": "stdout",
     "output_type": "stream",
     "text": [
      "Array B\n",
      " [[1 2 3]\n",
      " [4 5 6]\n",
      " [7 8 9]] \n",
      "\n",
      "5.0\n"
     ]
    }
   ],
   "source": [
    "# Media\n",
    "array_average = b.mean()\n",
    "print(\"Array B\\n\", b, \"\\n\")\n",
    "print(array_average)"
   ]
  },
  {
   "cell_type": "code",
   "execution_count": 13,
   "id": "ef82d30d-a012-4b2a-9699-b5b685f92fc7",
   "metadata": {},
   "outputs": [
    {
     "name": "stdout",
     "output_type": "stream",
     "text": [
      "Array B\n",
      " [[1 2 3]\n",
      " [4 5 6]\n",
      " [7 8 9]] \n",
      "\n",
      "9 , 1\n"
     ]
    }
   ],
   "source": [
    "# Maximum and minimum values\n",
    "b_max, b_min = b.max(), b.min()\n",
    "print(\"Array B\\n\", b, \"\\n\")\n",
    "print(b_max, \",\", b_min)"
   ]
  },
  {
   "cell_type": "code",
   "execution_count": 14,
   "id": "0d7ee218-c534-495b-b94c-29525b8354ce",
   "metadata": {},
   "outputs": [
    {
     "name": "stdout",
     "output_type": "stream",
     "text": [
      "8 , 0\n"
     ]
    }
   ],
   "source": [
    "# Index of Maximum and minimum\n",
    "b_max_index, b_min_index = b.argmax(), b.argmin()\n",
    "print(b_max_index, \",\", b_min_index)"
   ]
  },
  {
   "cell_type": "code",
   "execution_count": 15,
   "id": "c57801b5-7c53-4a35-af4c-33172ccbe6b8",
   "metadata": {},
   "outputs": [
    {
     "name": "stdout",
     "output_type": "stream",
     "text": [
      "8\n"
     ]
    }
   ],
   "source": [
    "# Peak to peak (max - min)\n",
    "b_peak_to_peak = np.ptp(b)\n",
    "print(b_peak_to_peak)"
   ]
  },
  {
   "cell_type": "code",
   "execution_count": 16,
   "id": "5f1bb213-ec0c-476e-949e-39dd5e5ff447",
   "metadata": {},
   "outputs": [
    {
     "name": "stdout",
     "output_type": "stream",
     "text": [
      "[1 2 3 4 5 6 7 8 9]\n"
     ]
    }
   ],
   "source": [
    "# Flatten arrays. Size attr\n",
    "array_flat = b.reshape(b.size)  # Total items\n",
    "print(array_flat)"
   ]
  },
  {
   "cell_type": "code",
   "execution_count": 17,
   "id": "25866505-2888-4ec5-afbc-ab434de1f94a",
   "metadata": {},
   "outputs": [
    {
     "name": "stdout",
     "output_type": "stream",
     "text": [
      "[1 2 3 4 5 6 7 8 9]\n"
     ]
    }
   ],
   "source": [
    "array_flat = b.flatten()  # copies the original array\n",
    "print(array_flat)"
   ]
  },
  {
   "cell_type": "code",
   "execution_count": 18,
   "id": "a7bba739-a964-4349-b645-fd1a8ff83fcf",
   "metadata": {},
   "outputs": [
    {
     "name": "stdout",
     "output_type": "stream",
     "text": [
      "[1 2 3 4 5 6 7 8 9]\n"
     ]
    }
   ],
   "source": [
    "array_flat = b.ravel()  # Creats a view of the original\n",
    "print(array_flat)"
   ]
  },
  {
   "cell_type": "code",
   "execution_count": 19,
   "id": "7171ffea-b1b2-4c79-810c-5065fbbd5175",
   "metadata": {},
   "outputs": [
    {
     "name": "stdout",
     "output_type": "stream",
     "text": [
      "[255 255 255]\n"
     ]
    }
   ],
   "source": [
    "# Repeat values/arrays\n",
    "arrays_repeat = np.repeat(255, 3)\n",
    "print(arrays_repeat)"
   ]
  },
  {
   "cell_type": "code",
   "execution_count": 20,
   "id": "d23e14d2-6edb-4067-ab86-c7dbb9781cc2",
   "metadata": {},
   "outputs": [
    {
     "name": "stdout",
     "output_type": "stream",
     "text": [
      "[1 1 1 2 2 2 3 3 3 4 4 4 5 5 5 6 6 6 7 7 7 8 8 8 9 9 9]\n"
     ]
    }
   ],
   "source": [
    "# All values in b repeats 3 times, .repeat()\n",
    "arrays_repeat = np.repeat(b, 3)\n",
    "print(arrays_repeat)"
   ]
  },
  {
   "cell_type": "code",
   "execution_count": 21,
   "id": "1c67bfc0-d66f-461a-9ee2-b7b08ecb2a1b",
   "metadata": {},
   "outputs": [
    {
     "name": "stdout",
     "output_type": "stream",
     "text": [
      "Array B\n",
      " [[1 2 3]\n",
      " [4 5 6]\n",
      " [7 8 9]] \n",
      "\n",
      "[[1 2 3]\n",
      " [1 2 3]\n",
      " [1 2 3]\n",
      " [4 5 6]\n",
      " [4 5 6]\n",
      " [4 5 6]\n",
      " [7 8 9]\n",
      " [7 8 9]\n",
      " [7 8 9]]\n"
     ]
    }
   ],
   "source": [
    "arrays_repeat_columns = np.repeat(b, 3, axis=0)\n",
    "print(\"Array B\\n\", b, \"\\n\")\n",
    "print(arrays_repeat_columns)"
   ]
  },
  {
   "cell_type": "code",
   "execution_count": 22,
   "id": "725a3a12-722b-4691-8bd2-e62d0f85e4be",
   "metadata": {},
   "outputs": [
    {
     "name": "stdout",
     "output_type": "stream",
     "text": [
      "Array B\n",
      " [[1 2 3]\n",
      " [4 5 6]\n",
      " [7 8 9]] \n",
      "\n",
      "[[1 1 1 2 2 2 3 3 3]\n",
      " [4 4 4 5 5 5 6 6 6]\n",
      " [7 7 7 8 8 8 9 9 9]]\n"
     ]
    }
   ],
   "source": [
    "arrays_repeat_rows = np.repeat(b, 3, axis=1)\n",
    "print(\"Array B\\n\", b, \"\\n\")\n",
    "print(arrays_repeat_rows)"
   ]
  },
  {
   "cell_type": "code",
   "execution_count": 23,
   "id": "624d2401-1d76-4d70-9423-79473c7315be",
   "metadata": {},
   "outputs": [
    {
     "name": "stdout",
     "output_type": "stream",
     "text": [
      "Array B\n",
      " [[1 2 3]\n",
      " [4 5 6]\n",
      " [7 8 9]] \n",
      "\n",
      "[[1 1 1 2 2 2 3 3 3]\n",
      " [4 4 4 5 5 5 6 6 6]\n",
      " [7 7 7 8 8 8 9 9 9]] \n",
      "\n",
      "[[1 2 3]\n",
      " [4 5 6]\n",
      " [7 8 9]]\n"
     ]
    }
   ],
   "source": [
    "arrays_repeat_rows = np.repeat(b, 3, axis=1)\n",
    "# Reverse the result of repeat,  np.unique()\n",
    "array_unique = np.unique(arrays_repeat_rows, axis=1)\n",
    "print(\"Array B\\n\", b, \"\\n\")\n",
    "print(arrays_repeat_rows, \"\\n\")\n",
    "print(array_unique)"
   ]
  },
  {
   "cell_type": "code",
   "execution_count": 26,
   "id": "610a646f-5cb0-4473-a04a-56364147e528",
   "metadata": {},
   "outputs": [
    {
     "name": "stdout",
     "output_type": "stream",
     "text": [
      "[[1 2 3]\n",
      " [4 5 6]\n",
      " [7 8 9]] \n",
      "\n",
      "[1 5 9]\n"
     ]
    }
   ],
   "source": [
    "# Diagonal function.  Atrapa la diagonal en el array\n",
    "arrays_repeat_rows = np.repeat(b, 3, axis=1)\n",
    "array_unique = np.unique(arrays_repeat_rows, axis=1)\n",
    "array_diagonal = np.diagonal(b)\n",
    "print(array_unique, \"\\n\")\n",
    "print(array_diagonal)"
   ]
  },
  {
   "cell_type": "code",
   "execution_count": 27,
   "id": "7d317afc-fb3b-4b43-86b4-3c785966abce",
   "metadata": {},
   "outputs": [
    {
     "name": "stdout",
     "output_type": "stream",
     "text": [
      "[[1 2 3]\n",
      " [4 5 6]\n",
      " [7 8 9]] \n",
      "\n",
      "[2 6]\n"
     ]
    }
   ],
   "source": [
    "# offset parameter.\n",
    "# 1 Selecciona la diagonal siguiente, 0 la anterior\n",
    "arrays_repeat_rows = np.repeat(b, 3, axis=1)\n",
    "array_unique = np.unique(arrays_repeat_rows, axis=1)\n",
    "array_diagonal = np.diagonal(b, offset=1)\n",
    "print(array_unique, \"\\n\")\n",
    "print(array_diagonal)"
   ]
  },
  {
   "cell_type": "code",
   "execution_count": 29,
   "id": "e787fa8b-d451-4804-9d8d-9bedb342593a",
   "metadata": {},
   "outputs": [
    {
     "name": "stdout",
     "output_type": "stream",
     "text": [
      "b is  <class 'numpy.ndarray'>\n",
      "My list is <class 'list'>\n"
     ]
    }
   ],
   "source": [
    "# Conversion and storage\n",
    "my_list = b.tolist()\n",
    "print(\"b is \", type(b))\n",
    "print(\"My list is\", type(my_list))\n",
    "\n",
    "# covertir a txt\n",
    "b.tofile(\"my_array.txt\", sep=\",\")"
   ]
  },
  {
   "cell_type": "code",
   "execution_count": 32,
   "id": "99d357a7-f188-44ae-910c-33b230a17e87",
   "metadata": {},
   "outputs": [
    {
     "name": "stdout",
     "output_type": "stream",
     "text": [
      "Array B\n",
      " [[1 2 3]\n",
      " [4 5 6]\n",
      " [7 8 9]] \n",
      "\n",
      "[[1 4 7]\n",
      " [2 5 8]\n",
      " [3 6 9]]\n"
     ]
    }
   ],
   "source": [
    "# Transposition. 3 Maneras\n",
    "# Swaping axis, or Flipping rows with columns\n",
    "array_swapped = np.swapaxes(b, 0, 1)  # obj, axis0, axis1\n",
    "print(\"Array B\\n\", b, \"\\n\")\n",
    "print(array_swapped)"
   ]
  },
  {
   "cell_type": "code",
   "execution_count": 33,
   "id": "767f4441-5038-4b27-975e-a89d327c96dd",
   "metadata": {},
   "outputs": [
    {
     "name": "stdout",
     "output_type": "stream",
     "text": [
      "Array B\n",
      " [[1 2 3]\n",
      " [4 5 6]\n",
      " [7 8 9]] \n",
      "\n",
      "[[1 4 7]\n",
      " [2 5 8]\n",
      " [3 6 9]]\n"
     ]
    }
   ],
   "source": [
    "array_swapped = np.swapaxes(b, 0, 1)\n",
    "array_swapped = b.transpose(1, 0)  # axis 1, axis 0\n",
    "print(\"Array B\\n\", b, \"\\n\")\n",
    "print(array_swapped)"
   ]
  },
  {
   "cell_type": "code",
   "execution_count": 34,
   "id": "5fde5b25-5a10-402a-b682-6a645f709163",
   "metadata": {},
   "outputs": [
    {
     "name": "stdout",
     "output_type": "stream",
     "text": [
      "Array B\n",
      " [[1 2 3]\n",
      " [4 5 6]\n",
      " [7 8 9]] \n",
      "\n",
      "[[1 4 7]\n",
      " [2 5 8]\n",
      " [3 6 9]]\n"
     ]
    }
   ],
   "source": [
    "array_swapped = np.swapaxes(b, 0, 1)\n",
    "array_swapped = b.transpose(1, 0)\n",
    "array_swapped = b.T\n",
    "print(\"Array B\\n\", b, \"\\n\")\n",
    "print(array_swapped)"
   ]
  },
  {
   "cell_type": "code",
   "execution_count": 40,
   "id": "98f82c66-4996-4c2c-adb0-86e888509e19",
   "metadata": {},
   "outputs": [
    {
     "name": "stdout",
     "output_type": "stream",
     "text": [
      "Array A\n",
      " [[2 2 2]\n",
      " [2 2 2]\n",
      " [2 2 2]] \n",
      "\n",
      "Array B\n",
      " [[1 2 3]\n",
      " [4 5 6]\n",
      " [7 8 9]] \n",
      "\n",
      "[[-0.25  0.    0.25]\n",
      " [ 0.5   0.75  1.  ]\n",
      " [ 1.25  1.5   1.75]]\n"
     ]
    }
   ],
   "source": [
    "# Operation on 2 matrices (2 arrays)\n",
    "simple_ops = (a + b - 2*a) / 4\n",
    "print(\"Array A\\n\", a, \"\\n\")\n",
    "print(\"Array B\\n\", b, \"\\n\")\n",
    "print(simple_ops)"
   ]
  },
  {
   "cell_type": "code",
   "execution_count": 41,
   "id": "4e8453fe-d7c7-4a43-9a7e-87e6b1cd02fa",
   "metadata": {},
   "outputs": [
    {
     "name": "stdout",
     "output_type": "stream",
     "text": [
      "Array A\n",
      " [[2 2 2]\n",
      " [2 2 2]\n",
      " [2 2 2]] \n",
      "\n",
      "Array B\n",
      " [[1 2 3]\n",
      " [4 5 6]\n",
      " [7 8 9]] \n",
      "\n",
      "[[1 0 1]\n",
      " [0 1 0]\n",
      " [1 0 1]]\n"
     ]
    }
   ],
   "source": [
    "# Operation on 2 matrices (2 arrays)\n",
    "simple_ops = (a + b - 2*a) / 4\n",
    "modulo = b % a\n",
    "print(\"Array A\\n\", a, \"\\n\")\n",
    "print(\"Array B\\n\", b, \"\\n\")\n",
    "print(modulo)"
   ]
  },
  {
   "cell_type": "code",
   "execution_count": 44,
   "id": "27a3ff4b-8b3e-4f39-8e1b-8fe3b8a902a6",
   "metadata": {},
   "outputs": [
    {
     "name": "stdout",
     "output_type": "stream",
     "text": [
      "Array A\n",
      " [[2 2 2]\n",
      " [2 2 2]\n",
      " [2 2 2]] \n",
      "\n",
      "Array B\n",
      " [[1 2 3]\n",
      " [4 5 6]\n",
      " [7 8 9]] \n",
      "\n",
      "[[0. 1. 1.]\n",
      " [2. 2. 3.]\n",
      " [3. 4. 4.]]\n"
     ]
    }
   ],
   "source": [
    "# Operation on 2 matrices (2 arrays)\n",
    "simple_ops = (a + b - 2*a) / 4\n",
    "modulo = b % a\n",
    "floor_division = b // a  # Integers\n",
    "floor_division = np.floor(b/a)  # Floats\n",
    "print(\"Array A\\n\", a, \"\\n\")\n",
    "print(\"Array B\\n\", b, \"\\n\")\n",
    "print(floor_division)"
   ]
  },
  {
   "cell_type": "code",
   "execution_count": 45,
   "id": "4a00e18d-43df-409e-ae4c-87f67f02a941",
   "metadata": {},
   "outputs": [
    {
     "name": "stdout",
     "output_type": "stream",
     "text": [
      "Array A\n",
      " [[2 2 2]\n",
      " [2 2 2]\n",
      " [2 2 2]] \n",
      "\n",
      "Array B\n",
      " [[1 2 3]\n",
      " [4 5 6]\n",
      " [7 8 9]] \n",
      "\n",
      "[[ 2  4  6]\n",
      " [ 8 10 12]\n",
      " [14 16 18]]\n"
     ]
    }
   ],
   "source": [
    "# Matrix multiplication (manual)\n",
    "matrix_multiply = np.matmul(a, b)\n",
    "print(\"Array A\\n\", a, \"\\n\")\n",
    "print(\"Array B\\n\", b, \"\\n\")\n",
    "print(a*b)  # Elemento * elemento en filas (i*i)"
   ]
  },
  {
   "cell_type": "code",
   "execution_count": 49,
   "id": "12a692aa-7f80-482a-80e4-45985679b6b0",
   "metadata": {},
   "outputs": [
    {
     "name": "stdout",
     "output_type": "stream",
     "text": [
      "Array A\n",
      " [[2 2 2]\n",
      " [2 2 2]\n",
      " [2 2 2]] \n",
      "\n",
      "Array B\n",
      " [[1 2 3]\n",
      " [4 5 6]\n",
      " [7 8 9]] \n",
      "\n",
      "[[24 30 36]\n",
      " [24 30 36]\n",
      " [24 30 36]]\n"
     ]
    }
   ],
   "source": [
    "# Matrix multiplication(np.matmul())\n",
    "matrix_multiply = np.matmul(a, b)\n",
    "print(\"Array A\\n\", a, \"\\n\")\n",
    "print(\"Array B\\n\", b, \"\\n\")\n",
    "print(matrix_multiply)\n",
    "# Elemento en fila * elemento col. (i*j)\n",
    "# A(i)*B(j) + A(i)*B(j) + A(i)*B(j) = 24"
   ]
  },
  {
   "cell_type": "code",
   "execution_count": 50,
   "id": "d78cd466-c595-470d-8109-38656a091170",
   "metadata": {},
   "outputs": [
    {
     "name": "stdout",
     "output_type": "stream",
     "text": [
      "Array A\n",
      " [[2 2 2]\n",
      " [2 2 2]\n",
      " [2 2 2]] \n",
      "\n",
      "Array B\n",
      " [[1 2 3]\n",
      " [4 5 6]\n",
      " [7 8 9]] \n",
      "\n",
      "[[24 30 36]\n",
      " [24 30 36]\n",
      " [24 30 36]]\n"
     ]
    }
   ],
   "source": [
    "# Matrix multiplication(.dot)\n",
    "matrix_multiply = a.dot(b)\n",
    "print(\"Array A\\n\", a, \"\\n\")\n",
    "print(\"Array B\\n\", b, \"\\n\")\n",
    "print(matrix_multiply)\n",
    "# Elemento en fila * elemento col. (i*j)\n",
    "# A(i)*B(j) + A(i)*B(j) + A(i)*B(j) = 24"
   ]
  },
  {
   "cell_type": "code",
   "execution_count": 51,
   "id": "72115fc6-9503-426b-86af-403357ed58d9",
   "metadata": {},
   "outputs": [
    {
     "name": "stdout",
     "output_type": "stream",
     "text": [
      "Array A\n",
      " [[2 2 2]\n",
      " [2 2 2]\n",
      " [2 2 2]] \n",
      "\n",
      "Array B\n",
      " [[1 2 3]\n",
      " [4 5 6]\n",
      " [7 8 9]] \n",
      "\n",
      "[[24 30 36]\n",
      " [24 30 36]\n",
      " [24 30 36]]\n"
     ]
    }
   ],
   "source": [
    "# Matrix multiplication (@)\n",
    "matrix_multiply = a @ b\n",
    "print(\"Array A\\n\", a, \"\\n\")\n",
    "print(\"Array B\\n\", b, \"\\n\")\n",
    "print(matrix_multiply)\n",
    "# Elemento en fila * elemento col. (i*j)\n",
    "# A(i)*B(j) + A(i)*B(j) + A(i)*B(j) = 24"
   ]
  },
  {
   "cell_type": "code",
   "execution_count": null,
   "id": "605b02b2-1487-4a27-93b2-f7af2d62c40b",
   "metadata": {},
   "outputs": [],
   "source": []
  }
 ],
 "metadata": {
  "kernelspec": {
   "display_name": "Python 3 (ipykernel)",
   "language": "python",
   "name": "python3"
  },
  "language_info": {
   "codemirror_mode": {
    "name": "ipython",
    "version": 3
   },
   "file_extension": ".py",
   "mimetype": "text/x-python",
   "name": "python",
   "nbconvert_exporter": "python",
   "pygments_lexer": "ipython3",
   "version": "3.9.19"
  }
 },
 "nbformat": 4,
 "nbformat_minor": 5
}
