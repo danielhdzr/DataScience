{
 "cells": [
  {
   "cell_type": "code",
   "execution_count": 1,
   "id": "c125247b-00d3-4c40-9903-47f0a90fcaad",
   "metadata": {},
   "outputs": [
    {
     "name": "stdout",
     "output_type": "stream",
     "text": [
      "apples\n",
      "bananas\n",
      "mango\n"
     ]
    }
   ],
   "source": [
    "# For loop\n",
    "fruits = [\"apples\", \"bananas\", \"mango\"]\n",
    "for i in fruits:\n",
    "    print(i)"
   ]
  },
  {
   "cell_type": "code",
   "execution_count": 2,
   "id": "7ece0977-3866-4767-8544-da01b26fa894",
   "metadata": {},
   "outputs": [
    {
     "name": "stdout",
     "output_type": "stream",
     "text": [
      "apples\n",
      "bananas\n",
      "mango\n"
     ]
    },
    {
     "data": {
      "text/plain": [
       "[None, None, None]"
      ]
     },
     "execution_count": 2,
     "metadata": {},
     "output_type": "execute_result"
    }
   ],
   "source": [
    "# List comprehension\n",
    "[print(i) for i in fruits]"
   ]
  },
  {
   "cell_type": "code",
   "execution_count": 11,
   "id": "3bcb723c-ecd3-4dee-899e-85314ec939b9",
   "metadata": {},
   "outputs": [
    {
     "name": "stdout",
     "output_type": "stream",
     "text": [
      "['APPLES', 'BANANAS', 'MANGO']\n"
     ]
    }
   ],
   "source": [
    "# A mayusculas\n",
    "fruits = [fruit.upper() for fruit in fruits]\n",
    "print(fruits)"
   ]
  },
  {
   "cell_type": "code",
   "execution_count": 13,
   "id": "ffe96e65-19d7-44fe-8025-dc7ea16c1fbe",
   "metadata": {},
   "outputs": [
    {
     "name": "stdout",
     "output_type": "stream",
     "text": [
      "[True, False, True, False, True, False, True, False, True, False]\n",
      "[1, 0, 1, 0, 1, 0, 1, 0, 1, 0]\n"
     ]
    }
   ],
   "source": [
    "# Conversion\n",
    "bits = [True, False, True, False, True, False, True, False, True, False]\n",
    "new_bits = [1 if b is True else 0 for b in bits]\n",
    "print(bits)\n",
    "print(new_bits)"
   ]
  },
  {
   "cell_type": "code",
   "execution_count": 19,
   "id": "3b289ed7-e422-442e-96f1-da16178d0d16",
   "metadata": {},
   "outputs": [
    {
     "name": "stdout",
     "output_type": "stream",
     "text": [
      "Hello my name is Daniel\n"
     ]
    }
   ],
   "source": [
    "# Reemplazar\n",
    "my_words = \"HelloMyNameIsDaniel\"\n",
    "my_new_words = \"\".join(\n",
    "    [letter if letter.islower()\n",
    "     else \" \" + letter.lower() if letter in [\"M\", \"N\", \"I\"]\n",
    "     else \" \" + letter for letter in my_words])[1:]\n",
    "# [1:] para quitar el espacio vacio al inicio de la frase\n",
    "print(my_new_words)"
   ]
  },
  {
   "cell_type": "code",
   "execution_count": null,
   "id": "a8195cb6-2faa-4cfc-bb40-5e33c3af87cc",
   "metadata": {},
   "outputs": [],
   "source": []
  }
 ],
 "metadata": {
  "kernelspec": {
   "display_name": "Python 3 (ipykernel)",
   "language": "python",
   "name": "python3"
  },
  "language_info": {
   "codemirror_mode": {
    "name": "ipython",
    "version": 3
   },
   "file_extension": ".py",
   "mimetype": "text/x-python",
   "name": "python",
   "nbconvert_exporter": "python",
   "pygments_lexer": "ipython3",
   "version": "3.9.19"
  }
 },
 "nbformat": 4,
 "nbformat_minor": 5
}
