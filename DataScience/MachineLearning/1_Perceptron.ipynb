{
 "cells": [
  {
   "cell_type": "code",
   "execution_count": 8,
   "id": "d4d75e89-21e7-4dc9-8fbc-abf8bcfedc5e",
   "metadata": {},
   "outputs": [
    {
     "name": "stdout",
     "output_type": "stream",
     "text": [
      "0.04000000000000001\n",
      "0.19\n",
      "0.31\n",
      "Output: 0\n"
     ]
    }
   ],
   "source": [
    "# Perceptron is an algorithm that outputs a binary conclusion (0 or 1)\n",
    "# Input data or feature\n",
    "x_input = [0.1, 0.5, 0.2]\n",
    "# Weights (impact of a given value on the data) input 0.2 has a bigger weight in data that input 0.5\n",
    "w_weights = [0.4, 0.3, 0.6]\n",
    "\n",
    "'''Formula del modelo perceptron'''\n",
    "# To reach a logical conclusion we multiply input by its weight and then sum all the results.\n",
    "# That's how we get our weighted sum\n",
    "\n",
    "# Formula weighted sum\n",
    "'''weighted sum == features * weights'''\n",
    "# Then we evaluate if the weighted sum has reached our THRESHOLD or BIAS.\n",
    "threshold = 0.5\n",
    "\n",
    "\n",
    "'''Activation Function'''\n",
    "# to evaluate if the threshold or bias has been reached.\n",
    "# Using a step function this time for a binary output\n",
    "\n",
    "\n",
    "def step(weighted_sum):\n",
    "    if weighted_sum > threshold:\n",
    "        return 1\n",
    "    else:\n",
    "        return 0\n",
    "\n",
    "\n",
    "# Definicion de la logica del programa\n",
    "def perceptron():\n",
    "    weighted_sum = 0\n",
    "    # zip() forma tuples (x, x_input), (w, w_weights)\n",
    "    for x, w in zip(x_input, w_weights):\n",
    "        # weighted_sum = weighted_sum + el resultado de la multiplicacion de x*w\n",
    "        weighted_sum += x*w\n",
    "        print(weighted_sum)\n",
    "    # Retorna 1 o 0\n",
    "    return step(weighted_sum)\n",
    "\n",
    "\n",
    "output = perceptron()\n",
    "print(\"Output: \" + str(output))"
   ]
  },
  {
   "cell_type": "code",
   "execution_count": null,
   "id": "2f64c359-9073-4612-bb80-760bb1b39531",
   "metadata": {},
   "outputs": [],
   "source": []
  }
 ],
 "metadata": {
  "kernelspec": {
   "display_name": "Python 3 (ipykernel)",
   "language": "python",
   "name": "python3"
  },
  "language_info": {
   "codemirror_mode": {
    "name": "ipython",
    "version": 3
   },
   "file_extension": ".py",
   "mimetype": "text/x-python",
   "name": "python",
   "nbconvert_exporter": "python",
   "pygments_lexer": "ipython3",
   "version": "3.9.19"
  }
 },
 "nbformat": 4,
 "nbformat_minor": 5
}
