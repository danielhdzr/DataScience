{
 "cells": [
  {
   "cell_type": "code",
   "execution_count": null,
   "id": "f6b2622b-13cd-4417-b0b5-5713f3daecf4",
   "metadata": {},
   "outputs": [],
   "source": [
    "'''Supervised Learning\n",
    "labeled training dataset'''\n",
    "\n",
    "# Like a parent teaching his kids\n",
    "# This is a dog ->\n",
    "# This is a cat ->\n",
    "# The more dogs and cats the kid sees, the better he will remember them\n",
    "\n",
    "# We provide our neural network with a labeldata set\n",
    "'''\n",
    "   Feature | X[0] | X[1] | X[2] | TARGET\n",
    "      0       0.1    0.5    0.2      0\n",
    "      1       0.2    0.3    0.1      1\n",
    "      2       0.7    0.4    0.2      0\n",
    "      3       0.1    0.4    0.3      1\n",
    "'''\n",
    "\n",
    "\n",
    "# Like a parent teaching his kids\n",
    "# With the feature we point at an animal,\n",
    "# and with the target we explain the name of the animal\n",
    "\n",
    "# We have full control of the input and the output by supervising it\n",
    "\n",
    "\"\"\"Unsupervised learning\n",
    "unlabeled training dataset\"\"\"\n",
    "\n",
    "# It's like taking the kid outside and pointing at the dog saying nothing.\n",
    "# The kid will reason you want him to identify the dog by his own\n",
    "\n",
    "# Equivalent to provide a unlabel dataset to the neural network.\n",
    "# We provide the features only or a dataset where the features\n",
    "# and targets are the same value.\n",
    "# That will be enough for the neural network to give a correct prediction\n",
    "\n",
    "'''Reinforcement learning\n",
    "training on a sequence os states'''\n",
    "\n",
    "# It's like telling a kid where the stuffs are and leaving him alone.\n",
    "# Like playing elden ring. Nobody tells you what to do. You find out eventually"
   ]
  }
 ],
 "metadata": {
  "kernelspec": {
   "display_name": "Python 3 (ipykernel)",
   "language": "python",
   "name": "python3"
  },
  "language_info": {
   "codemirror_mode": {
    "name": "ipython",
    "version": 3
   },
   "file_extension": ".py",
   "mimetype": "text/x-python",
   "name": "python",
   "nbconvert_exporter": "python",
   "pygments_lexer": "ipython3",
   "version": "3.9.19"
  }
 },
 "nbformat": 4,
 "nbformat_minor": 5
}
