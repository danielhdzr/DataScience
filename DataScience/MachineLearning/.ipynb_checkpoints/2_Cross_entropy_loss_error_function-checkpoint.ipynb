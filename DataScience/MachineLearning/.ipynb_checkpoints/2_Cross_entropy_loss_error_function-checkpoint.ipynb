{
 "cells": [
  {
   "cell_type": "code",
   "execution_count": 7,
   "id": "a2edc77c-fe85-440a-90ba-7dcf4e3a344b",
   "metadata": {},
   "outputs": [
    {
     "name": "stdout",
     "output_type": "stream",
     "text": [
      "Loss error for every w_sum, target tuple\n",
      "0.585026652029182\n",
      "Loss error for every w_sum, target tuple\n",
      "0.09691001300805639\n",
      "Loss error for every w_sum, target tuple\n",
      "0.3187587626244128\n",
      "Loss error for every w_sum, target tuple\n",
      "0.1549019599857432\n",
      "Error term 0.2888993469118486\n"
     ]
    }
   ],
   "source": [
    "import math\n",
    "# Esta funcion compara el calculated weighted sum\n",
    "# vs the target (Y). De esa manera se obtiene el entropy loss error.\n",
    "\n",
    "# En el perceptron file se muestra como calcular el weighted sum\n",
    "# ***Two only variables needed for the cross entropy formula***\n",
    "# These are the calculated weighted sum, and target (Y) in a list of tuples\n",
    "input_data = [(0.26, 1),\n",
    "              (0.20, 0),\n",
    "              (0.48, 1),\n",
    "              (0.30, 0)]\n",
    "\n",
    "\n",
    "# Define cross entropy function\n",
    "def cross_entropy(input_data):\n",
    "    loss = 0  # initial loss (will increment with each data entry)\n",
    "    n = len(input_data)\n",
    "    # Time to calculate the entropy loss error\n",
    "    for entry in input_data:\n",
    "        w_sum = entry[0]  # first value of our tuple Ex.(0.26)\n",
    "        y = entry[1]  # Second value of our tuple. Ex. (1)\n",
    "        # ***formula para el cross entropy loss error***\n",
    "        # Increment the loss value each time we encounter a new data entry\n",
    "        loss += -(y*math.log10(w_sum) + (1-y)*math.log10(1-w_sum))\n",
    "        print('Loss error for every w_sum, target tuple')\n",
    "        print(-(y*math.log10(w_sum) + (1-y)*math.log10(1-w_sum)))\n",
    "\n",
    "    # Return loss devided by the number of entries represented by \"n\"\n",
    "    # also iqual to the lenght of our input data\n",
    "    '''input_data = [(0.26, 1),\n",
    "                    (0.20, 0),\n",
    "                    (0.48, 1),\n",
    "                    (0.30, 0)]'''\n",
    "    return loss/n\n",
    "\n",
    "\n",
    "error_term = cross_entropy(input_data)\n",
    "print(f'Error term {error_term}')"
   ]
  },
  {
   "cell_type": "code",
   "execution_count": null,
   "id": "ee8e9505-101d-4ca4-ba72-cdf17944c108",
   "metadata": {},
   "outputs": [],
   "source": []
  }
 ],
 "metadata": {
  "kernelspec": {
   "display_name": "Python 3 (ipykernel)",
   "language": "python",
   "name": "python3"
  },
  "language_info": {
   "codemirror_mode": {
    "name": "ipython",
    "version": 3
   },
   "file_extension": ".py",
   "mimetype": "text/x-python",
   "name": "python",
   "nbconvert_exporter": "python",
   "pygments_lexer": "ipython3",
   "version": "3.9.19"
  }
 },
 "nbformat": 4,
 "nbformat_minor": 5
}
