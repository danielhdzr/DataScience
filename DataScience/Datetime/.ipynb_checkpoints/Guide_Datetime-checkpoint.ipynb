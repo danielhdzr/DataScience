{
 "cells": [
  {
   "cell_type": "code",
   "execution_count": 1,
   "id": "4cb425ae-e6f1-4f1e-96b6-c0a853774ad2",
   "metadata": {},
   "outputs": [
    {
     "name": "stdout",
     "output_type": "stream",
     "text": [
      "Today is: 2024-07-15\n",
      "Day: 15\n",
      "Month: 7\n",
      "Year: 2024\n"
     ]
    }
   ],
   "source": [
    "from datetime import date, datetime, time\n",
    "\n",
    "# Date object\n",
    "today = date.today()\n",
    "print(\"Today is:\", today)\n",
    "print(\"Day:\", today.day)\n",
    "print(\"Month:\", today.month)\n",
    "print(\"Year:\", today.year)"
   ]
  },
  {
   "cell_type": "code",
   "execution_count": 2,
   "id": "fbe457df-c4a8-48dc-8f76-373781b65713",
   "metadata": {},
   "outputs": [
    {
     "name": "stdout",
     "output_type": "stream",
     "text": [
      "Monday 15 July 2024\n"
     ]
    }
   ],
   "source": [
    "# Formato en mayusculas para palabra completa\n",
    "print(today.strftime(\"%A %d %B %Y\"))"
   ]
  },
  {
   "cell_type": "code",
   "execution_count": 3,
   "id": "9b0c2ceb-73f5-4e84-9206-755fe6768692",
   "metadata": {},
   "outputs": [
    {
     "name": "stdout",
     "output_type": "stream",
     "text": [
      "Mon, 15 Jul 24\n"
     ]
    }
   ],
   "source": [
    "# Formato en minusculas para abreviaturas\n",
    "print(today.strftime(\"%a, %d %b %y\"))"
   ]
  },
  {
   "cell_type": "code",
   "execution_count": 4,
   "id": "6d2f406b-3696-4a6f-b2b8-604b3e43bc7c",
   "metadata": {},
   "outputs": [
    {
     "name": "stdout",
     "output_type": "stream",
     "text": [
      "Monday, 15th July 2024\n"
     ]
    }
   ],
   "source": [
    "# Formato mas formal\n",
    "print(today.strftime(\"%A, %dth %B %Y\"))"
   ]
  },
  {
   "cell_type": "code",
   "execution_count": 5,
   "id": "68234121-80d3-42b2-ae52-3d17258de3e9",
   "metadata": {},
   "outputs": [
    {
     "name": "stdout",
     "output_type": "stream",
     "text": [
      "07/15/24\n"
     ]
    }
   ],
   "source": [
    "# Fecha en digitos\n",
    "print(today.strftime(\"%D\"))"
   ]
  },
  {
   "cell_type": "code",
   "execution_count": 6,
   "id": "df31c751-044c-4f83-ad7e-478ae3320e0f",
   "metadata": {},
   "outputs": [
    {
     "name": "stdout",
     "output_type": "stream",
     "text": [
      "2025-07-15\n"
     ]
    }
   ],
   "source": [
    "next_year = today.replace(year=today.year + 1)\n",
    "print(next_year)"
   ]
  },
  {
   "cell_type": "code",
   "execution_count": 7,
   "id": "f8781187-1243-4104-b682-20708e25d6d2",
   "metadata": {},
   "outputs": [
    {
     "name": "stdout",
     "output_type": "stream",
     "text": [
      "2024-08-15\n"
     ]
    }
   ],
   "source": [
    "next_month = today.replace(month=today.month + 1)\n",
    "print(next_month)"
   ]
  },
  {
   "cell_type": "code",
   "execution_count": 8,
   "id": "8de50b38-8e9d-42e6-b902-9621a062b18d",
   "metadata": {},
   "outputs": [
    {
     "name": "stdout",
     "output_type": "stream",
     "text": [
      "2024-07-16\n"
     ]
    }
   ],
   "source": [
    "next_day = today.replace(day=today.day + 1)\n",
    "print(next_day)"
   ]
  },
  {
   "cell_type": "code",
   "execution_count": 9,
   "id": "03c4c72b-5187-44c3-b10f-88713048cccf",
   "metadata": {},
   "outputs": [
    {
     "name": "stdout",
     "output_type": "stream",
     "text": [
      "Only 365 days until next year\n"
     ]
    }
   ],
   "source": [
    "# Countdown to a specific date\n",
    "next_year = today.replace(year=today.year + 1)\n",
    "difference = abs(next_year - today)\n",
    "# {place holder}\n",
    "print(\"Only {} days until next year\".format(difference.days))"
   ]
  },
  {
   "cell_type": "code",
   "execution_count": 10,
   "id": "0cd6e779-e852-4e46-a270-9623c0700233",
   "metadata": {},
   "outputs": [
    {
     "name": "stdout",
     "output_type": "stream",
     "text": [
      "Nikola Tesla was born on: 1856-07-10\n"
     ]
    }
   ],
   "source": [
    "# date(Y, m, d)\n",
    "nikola_tesla = date(1856, 7, 10)\n",
    "print(\"Nikola Tesla was born on:\", nikola_tesla)"
   ]
  },
  {
   "cell_type": "code",
   "execution_count": 11,
   "id": "a703baa6-4dab-431b-abba-0ca4657cbe44",
   "metadata": {},
   "outputs": [
    {
     "name": "stdout",
     "output_type": "stream",
     "text": [
      "Nikola Tesla was born on: 1856-07-10\n",
      "Nikola Tesla was born on the 3rd day of the week\n"
     ]
    }
   ],
   "source": [
    "nikola_tesla = date.fromisoformat(\"1856-07-10\")\n",
    "print(\"Nikola Tesla was born on:\", nikola_tesla)\n",
    "# Monday is 0, Sunday is 6\n",
    "print(f\"Nikola Tesla was born on the {nikola_tesla.weekday()}rd day of the week\")"
   ]
  },
  {
   "cell_type": "code",
   "execution_count": 12,
   "id": "500217c3-f7fc-4b63-b1b6-90747253ad40",
   "metadata": {},
   "outputs": [
    {
     "name": "stdout",
     "output_type": "stream",
     "text": [
      "Right now is 2024-07-15 14:23:31.624329\n"
     ]
    }
   ],
   "source": [
    "# Date and time object\n",
    "now = datetime.now()\n",
    "print(\"Right now is\", now)"
   ]
  },
  {
   "cell_type": "code",
   "execution_count": 13,
   "id": "bac984e3-7aee-4233-b147-2264a6edc520",
   "metadata": {},
   "outputs": [
    {
     "name": "stdout",
     "output_type": "stream",
     "text": [
      "It's the 23th minute of the 14th hour of the 15th day of the 7th month\n"
     ]
    }
   ],
   "source": [
    "now = datetime.now()\n",
    "print(\"It's the {}th minute of the {}th hour of the {}th day of the {}th month\".\n",
    "      format(now.minute, now.hour, now.day, now.month))"
   ]
  },
  {
   "cell_type": "code",
   "execution_count": 14,
   "id": "b18d1a09-18be-498a-b1bd-14ad109589af",
   "metadata": {},
   "outputs": [
    {
     "name": "stdout",
     "output_type": "stream",
     "text": [
      "The nuclear disaster in Chernobyl ocurred on 1986-04-26 01:23:40+04:00\n",
      "The nuclear disaster in Chernobyl ocurred on Saturday April 26th, 1986 at 01:23:40 MSD(UTC+04:00)\n",
      "MSD (timezone) is actually UTC+04:00\n"
     ]
    }
   ],
   "source": [
    "# Specific time and date\n",
    "chernobyl = datetime.fromisoformat(\"1986-04-26 01:23:40:000+04:00\")\n",
    "print(\"The nuclear disaster in Chernobyl ocurred on\", chernobyl)\n",
    "print(chernobyl.strftime(\"The nuclear disaster in Chernobyl ocurred on %A %B %dth, %Y at %X MSD(%Z)\"))\n",
    "print(\"MSD (timezone) is actually\", chernobyl.tzinfo)"
   ]
  },
  {
   "cell_type": "code",
   "execution_count": 24,
   "id": "af3de774-9f06-4ddd-8a90-460751eadd98",
   "metadata": {},
   "outputs": [
    {
     "name": "stdout",
     "output_type": "stream",
     "text": [
      "15:33:08\n",
      "15:33:08-07:00\n",
      "03:33 PM\n"
     ]
    }
   ],
   "source": [
    "# Time object\n",
    "my_time = time(15, 33, 8)\n",
    "time.fromisoformat(\"15:33:08-07:00\")\n",
    "print(my_time)\n",
    "my_time = time.fromisoformat(\"15:33:08-07:00\")\n",
    "print(my_time)\n",
    "# Formato de 12 horas\n",
    "print(my_time.strftime(\"%I:%M %p\"))"
   ]
  },
  {
   "cell_type": "code",
   "execution_count": 26,
   "id": "1cd0ad14-67da-4d8a-9e39-697942a4f9c8",
   "metadata": {},
   "outputs": [
    {
     "name": "stdout",
     "output_type": "stream",
     "text": [
      "2024-07-19 15:33:08-07:00\n"
     ]
    }
   ],
   "source": [
    "my_date = date(2024, 7, 22)\n",
    "# Datetime object\n",
    "my_bday = datetime.combine(my_date, my_time)\n",
    "print(my_bday)"
   ]
  },
  {
   "cell_type": "code",
   "execution_count": null,
   "id": "11c1c9e3-4635-4efb-8f9e-4650a4051dfd",
   "metadata": {},
   "outputs": [],
   "source": []
  }
 ],
 "metadata": {
  "kernelspec": {
   "display_name": "Python 3 (ipykernel)",
   "language": "python",
   "name": "python3"
  },
  "language_info": {
   "codemirror_mode": {
    "name": "ipython",
    "version": 3
   },
   "file_extension": ".py",
   "mimetype": "text/x-python",
   "name": "python",
   "nbconvert_exporter": "python",
   "pygments_lexer": "ipython3",
   "version": "3.9.19"
  }
 },
 "nbformat": 4,
 "nbformat_minor": 5
}
