{
 "cells": [
  {
   "cell_type": "code",
   "execution_count": 1,
   "id": "f3a994f9-30dd-465f-b448-e1f6a3220fa2",
   "metadata": {},
   "outputs": [
    {
     "data": {
      "text/plain": [
       "<Response [200]>"
      ]
     },
     "execution_count": 1,
     "metadata": {},
     "output_type": "execute_result"
    }
   ],
   "source": [
    "# For HTML TABLES use the PANDAS WAY :D\n",
    "# https://en.wikipedia.org/wiki/Comparison_of_Linux_distributions\n",
    "import mechanicalsoup\n",
    "import pandas as pd\n",
    "import sqlite3 as sql3\n",
    "\n",
    "# Declare our browser\n",
    "browser = mechanicalsoup.StatefulBrowser()\n",
    "# Open the link to scrape\n",
    "browser.open('https://en.wikipedia.org/wiki/Comparison_of_Linux_distributions')\n",
    "\n",
    "# Look for the first ROW item in the table we want to scrape (ctrl shift c)\n",
    "# Its tagname is a table header (<th>) element, with the class attribute 'table-rh' == <th>... class='table-rh' </th>"
   ]
  },
  {
   "cell_type": "code",
   "execution_count": 2,
   "id": "0ccb94c0-f5ac-4afc-9d40-4bc0cc156ef9",
   "metadata": {},
   "outputs": [
    {
     "name": "stdout",
     "output_type": "stream",
     "text": [
      "97\n"
     ]
    }
   ],
   "source": [
    "# Now extract table headers <th> because that's the tag of the items in the first column of the table\n",
    "th = browser.page.find_all('th', attrs={'class':'table-rh'})\n",
    "# Keep only the text inside the tagname (<th/th>)\n",
    "# Explanation: for every value, item, member found within all the <th/th> found in the web page, take the text and save it in the \n",
    "# distribution list as an object of our new list \n",
    "# Finally replace the new line character (\\n) with an empty string ''\n",
    "# Call the list 'distribution' because that's the name of the fist column from which we're scraping the data (th)\n",
    "distribution = [value.text.replace('\\n', '') for value in th]\n",
    "# Since in this way we selected ALL the tables in the page, we're going to focus on getting the index of \n",
    "# the last item in te table we are interested in\n",
    "print(distribution.index('Zorin OS'))"
   ]
  },
  {
   "cell_type": "code",
   "execution_count": 3,
   "id": "5a5983e2-d379-4998-8064-70883dcda1ba",
   "metadata": {},
   "outputs": [
    {
     "name": "stdout",
     "output_type": "stream",
     "text": [
      "['AlmaLinux', 'Alpine Linux', 'ALT Linux', 'antiX', 'ArchBang', 'Arch Linux', 'BLAG', 'Bodhi Linux', 'Canaima', 'CentOS', 'CentOS Stream', 'Chakra', 'ChromeOS', 'Clear Linux OS', 'ClearOS', 'CrunchBang Linux', 'Damn Small Linux', 'Debian', 'Debian Edu', 'Devuan', 'Deepin', 'Dragora GNU/Linux-Libre', 'dyne:bolic', 'Elementary OS', 'ELinOS', 'Emdebian Grip', 'EndeavourOS', 'Fedora Linux', 'Freespire', 'Gentoo Linux', 'Guix System', 'gNewSense', 'Grml', 'Hyperbola GNU/Linux-libre', 'Kali Linux', 'Knoppix', 'Korora', 'LibreCMC', 'Linspire', 'Linux Mint', 'Linux Lite', 'Mageia', 'Mandriva Linux', 'Manjaro Linux', 'MEPIS', 'MIRACLE LINUX', 'Musix GNU+Linux', 'Netrunner', 'NixOS', 'Novell Open Enterprise Server', 'OpenELEC', 'openSUSE', 'OpenWrt', 'OpenMandriva Lx', 'Oracle Linux', 'Parabola GNU/Linux-libre', 'Pardus', 'Parrot OS', 'Parsix', 'Parted Magic', 'PCLinuxOS', 'Pop! OS', 'Pentoo', 'Porteus', 'Puppy Linux', 'PureOS', 'Qubes OS', 'Red Hat Enterprise Linux (RHEL)', 'Red Hat Linux', 'Rocks Cluster Distribution', 'Rocky Linux', 'ROSA', 'Sabayon Linux', 'Salix OS', 'Scientific Linux', 'Slackware', 'Slax', 'SliTaz GNU/Linux', 'Solus', 'SolydXK', 'SparkyLinux', 'Source Mage GNU/Linux', 'SteamOS', 'SUSE Linux Enterprise', 'Tails', 'Tiny Core Linux', 'Trisquel GNU/Linux', 'TurnKey GNU/Linux', 'Ubuntu and Derivatives[99]', 'Univention Corporate Server', 'Ututo', 'VectorLinux', 'Void Linux', 'Webconverger', 'Xandros', 'Zentyal', 'Zenwalk', 'Zorin OS']\n"
     ]
    }
   ],
   "source": [
    "# Now slice. Include in the list just the items we want. Leave the rest outside\n",
    "distribution = distribution[:98]\n",
    "print(distribution)\n",
    "# We have now all the items from the first row"
   ]
  },
  {
   "cell_type": "code",
   "execution_count": 4,
   "id": "332e5e22-395d-41a0-b033-9095ab5e2aa8",
   "metadata": {},
   "outputs": [
    {
     "name": "stdout",
     "output_type": "stream",
     "text": [
      "6\n",
      "1084\n"
     ]
    }
   ],
   "source": [
    "# Extract the data from table. The tag for every item turns out to be <td> table data\n",
    "td = browser.page.find_all('td')\n",
    "columns = [value.text.replace('\\n', '') for value in td]\n",
    "# The word for the last item turned out to be too common to use it to make sure we are selecting only the values \n",
    "# form the table we want. So, we'll aim for the indexes of the items <td> by selecting the very next <td> item in the next table\n",
    "# and using slice notation we'll select the very item before (which is the one we want)\n",
    "# First item in the table\n",
    "print(columns.index('AlmaLinux Foundation'))\n",
    "# First item in the next table (the previous item is the last one from the previous table(that we want))\n",
    "print(columns.index('Binary blobs'))"
   ]
  },
  {
   "cell_type": "code",
   "execution_count": 5,
   "id": "87908968-98f4-4579-9543-b13b1b17b30e",
   "metadata": {},
   "outputs": [
    {
     "name": "stdout",
     "output_type": "stream",
     "text": [
      "['AlmaLinux Foundation', 'AlmaLinux Foundation', '2021', '9.4[2]\\xa0', '10 years[3]', '2024-05-06', 'X', 'Red Hat Enterprise Linux (RHEL)', 'server, workstation', 'None', 'Active', 'Alpine Linux Team', 'Alpine Linux Team', '2006', '3.20.1[4]\\xa0', '?', '2024-06-18', 'X', 'LEAF Project', 'security, lightweight, general', 'None', 'Active', 'ALT Linux Team', 'ALT Linux Team, ALT Linux LLC', '2001', '10.3[5]\\xa0', '?', '2024-05-13', 'X', 'Mandrake Linux', 'general, school', 'None', 'Active', 'Anticapitalista', 'Anticapitalista', '2007', '23.1[6]\\xa0', '?', '2024-02-22', 'X', 'Debian, MEPIS', 'old computers', 'None', 'Active', 'Willensky Aristide', 'Stan McLaren', '2011', 'Rolling', 'Rolling', 'Rolling', 'X', 'Arch Linux (UKM Edition)', 'general', 'None', 'Active', 'Judd Vinet', 'dev team', '2002', 'Rolling', 'Rolling', 'Rolling', 'X', 'Independent, inspired from CRUX', 'general', 'None', 'Active', 'Brixton Linux Action Group', 'Brixton Linux Action Group', '2002', '140000[7]\\xa0', '?', '2011-05-04', '100% Free: GNU FSDG[8]', 'Fedora', 'desktop', 'None', 'Inactive', 'Bodhi Linux Team', 'Bodhi Linux Team', '2011', '7.0.0[9]\\xa0', '?', '2023-08-21', 'X', 'Debian, Ubuntu', 'desktop, lightweight', 'None', 'Active', 'CANTV / CNTI / CENTIDEL / Edelca / VIT / FUNDACITE / Free software community', 'CANTV / CNTI / CENTIDEL / Edelca / VIT / FUNDACITE / Free software community', '2007', '7.2[10]\\xa0', '?', '2023-08-02', 'X', 'Debian, Ubuntu', 'Government of Venezuela', 'None', 'Active', 'CentOS Project', 'CentOS Project', '2003', '9[11]\\xa0', '10 years[12]', '2021-12-03', 'X', 'Red Hat Enterprise Linux (RHEL)', 'server, workstation', 'None', 'Inactive', 'CentOS Project', 'CentOS Project', '2019', '9[13]', '5 years[14]', '2021-12-03', 'X', 'Upstream of Red Hat Enterprise Linux (RHEL)', 'server, workstation', 'None', 'Active', 'Jan Mette and Arch Linux KDEmod developers', 'The Chakra Project Team', '2010', 'Rolling', 'Rolling', '2017.10', 'X', 'Arch Linux[15]', 'desktop', 'None', 'Inactive', 'Sundar Pichai', 'Google', '2011', '125.0.6422.140[16]\\xa0', 'Rolling', '2024-05-30', 'X', 'Gentoo Linux', 'web applications', 'None', 'Active', 'Arjan van de Ven', 'Intel', '2015', 'Rolling', 'Rolling', 'Rolling', 'X', 'Independent', 'container, server, desktop', 'None', 'Active', 'Peter Baldwin', 'ClearFoundation', '2000', '7.8[17]\\xa0', '?', '2020-06-23', 'X', 'RHEL, CentOS', 'server, gateway, network', 'Some editions are free of charge', 'Active', 'Philip Newborough', 'Philip Newborough', '2008', '', '?', '', 'X', 'Debian', 'desktop', 'None', 'Inactive', 'John Andrews', 'dev team', '2003', '4.4.10[18]\\xa0', '?', '2008-11-18', 'X', 'Debian, Knoppix', 'lightweight, portable', 'None', 'Inactive', 'Ian Murdock', 'Debian Project', '1993', '12.5[19]\\xa0', '~5 years,[g 1] 10 years Freexian ELTS(paid)', '2024-02-10', 'Debian Social Contract and DFSG (main was 100% free, till 2022,[20][21] non-free packages were optional)[22]', 'Independent, inspired by Softlanding Linux System (SLS)[23]', 'general, server, desktop', 'None', 'Active', '', 'Debian Project', '2004', '12.5[19]\\xa0', '~3 years[g 1]', '2024-02-10', 'Debian Social Contract and DFSG', 'Debian', 'schools', 'None', 'Active', 'The \"Veteran Unix Admins\" (VUA)', 'The \"Veteran Unix Admins\" (VUA)', '2016', '5.0.0[24]\\xa0', '?', '2023-08-15', 'X[g 2]', 'Debian', 'general', 'None', 'Active', 'Wuhan Deepin Technology Co., Ltd.', 'Wuhan Deepin Technology Co., Ltd.', '2004', '20.9[25]\\xa0', '?', '2023-04-17', 'X', 'Debian', 'general', 'None', 'Active', 'Matias A. Fonzo', 'Matias A. Fonzo', '2009', '3.0-beta2[26]\\xa0', '?', '2023-04-26', '100% Free: GNU FSDG[8]', 'Independent, inspired from Slackware', 'general', 'None', 'Active', 'Jaromil', 'Jaromilx', '2005', '3.0.0[27]\\xa0', '?', '2011-09-08', '100% Free: GNU FSDG[8]', 'Debian', 'multimedia', 'None', 'Inactive', 'Danielle Foré', 'elementary LLC', '2011', '7.1[28]\\xa0', '?', '2023-10-03', 'X', 'Ubuntu, Debian', 'general', 'None', 'Active', 'SYSGO', 'SYSGO', '1999', '7.1[29]\\xa0', '?', '2022-04', 'X', 'Independent', 'embedded systems', 'Partial', 'Active', 'Embedded Debian Project', 'Embedded Debian Project', '2009', '3.1[30]\\xa0', 'End-of-life', '2023-06-15', 'X', 'Debian', 'embedded systems', 'None', 'Inactive', 'Bryan Poerwoatmodjo', 'EndeavourOS', '2019', 'Rolling', '?', '2022-09-14', 'X', 'Arch Linux', 'general', 'None', 'Active', 'Fedora Project', 'Fedora Project', '2003', '40[31]\\xa0', '1 year and month', '2024-04-23', 'Fedora Licensing Guidelines[32]', 'Red Hat Linux', 'general', 'None', 'Active', 'Lindows.com, Inc.', 'PC/OpenSystems LLC', '2001', '10[33]\\xa0', '?', '2023-12-07', 'X', '?', 'desktop', 'None', 'Active', 'Daniel Robbins', 'Gentoo Foundation, Inc.', '2002', 'Rolling', 'Rolling', 'Rolling', 'Gentoo Social Contract', 'Enoch Linux', 'general', 'None', 'Active', 'Ludovic Courtès', 'Ludovic Courtès, Ricardo Wurmus, the Guix community', '2012', '1.4.0[34]\\xa0', 'Rolling', '2022-12-19', '100% Free: GNU FSDG[8]', 'Independent, inspired by NixOS', 'general', 'None', 'Active', \"Brian Brazil and Paul O'Malley\", 'Sam Geeraerts with sponsorship from the Free Software Foundation', '2006', '4.0[35]\\xa0', '?', '2016-05-02', '100% Free: GNU FSDG[8]', 'Debian', 'general, server', 'None', 'Inactive', 'Michael Prokop', 'The Grml Team', '2005', '2022.11[36]\\xa0', '?', '2022-11-30', 'X', 'Debian', 'live, maintenance, security, network, forensic, accessibility', 'None', 'Active', 'Hyperbola Founders', 'Hyperbola Founders', '2017', '0.4.4[37]\\xa0', '3 years (stable), 5 years (old stable)[38]', '2024-01-05', '100% Free: GNU FSDG[8] followed in Hyperbola Social Contract', 'Arch Linux', 'general', 'None', 'Active[39]', 'Max Moser, Mati Aharoni, Martin J. Muench', 'Offensive Security', '2013', '2024.2[40]\\xa0', '?', '2024-06-05', 'X', 'Debian', 'auditing, forensic, security, network', 'None', 'Active', 'Klaus Knopper', 'dev team', '2000', '9.3[41]\\xa0', '?', '2022-05-05', 'X', 'Debian', 'live', 'None', 'Active', 'Chris Smart', 'Dev Team', '2005', '26[42]\\xa0', '?', '2017-09-16', 'X', 'Fedora', 'desktop', 'None', 'Inactive', 'LibreCMC team', 'LibreCMC team', '2010', '1.5.14[43]\\xa0', '?', '2023-10-03', '100% Free: GNU FSDG[8]', 'Merged from LibreWRT', 'embedded systems', 'None', 'Active', 'Linspire, Inc.', 'Linspire, Inc.', '2001', '12 SP1[44]\\xa0', '?', '2023-05-29', 'X', '?', '?', 'Commercial[45]', 'Active', 'Clement Lefebvre', 'dev team', '2006', '21.3[46]\\xa0', '~3 years (LMDE); 5 years (main editions)', '2024-01-12', 'X', 'Debian(LMDE), Ubuntu (main editions)', 'desktop', 'None', 'Active', 'Jerry Bezencon', 'Linux Lite Team', '2012', '7.0[47]\\xa0', '?', '2024-06-01', 'X', 'Ubuntu', 'desktop', 'None', 'Active', 'Mageia Community', 'mageia.org', '2010', '9[48]\\xa0', '1 year', '2023-09-04', 'X', 'Mandriva Linux', 'general', 'None', 'Active', 'Mandrakesoft S.A.', 'Mandriva S.A.', '1998', '2011.0[49]\\xa0', '?', '2011-08-28', 'X', 'Red Hat Linux', 'general', 'Some editions are free of charge', 'Inactive', 'Roland Singer', 'dev team', '2012[50]', 'Rolling', 'Rolling', 'Rolling', 'X', 'Arch Linux', 'general', 'None', 'Active', 'Warren Woodford', 'MEPIS LLC', '2003', '11.9.92[51]\\xa0', '?', '2013-08-10', 'X', 'Debian', 'desktop, server', 'None', 'Inactive', 'Cybertrust Japan', 'Cybertrust Japan', '2000', '9[52]\\xa0', '10 years', '2022-11-01', 'X', 'Red Hat Enterprise Linux (RHEL)', 'server', 'None', 'Active', 'Musix team', 'Musix team', '2008', '3.0.1[53]\\xa0', '?', '2014-03-13', '100% Free: GNU FSDG[8]', 'Debian', 'multimedia', 'None', 'Inactive', 'Blue Systems', 'dev team', '2009', '23[54]\\xa0', 'as per Debian', '2023-01-21', 'X', 'Debian', 'desktop', 'None', 'Active', 'Eelco Dolstra and Armijn Hemel', 'NixOS Foundation', '2003', '', '0.5 years', '', 'X', '–', 'general, server, desktop', 'None', 'Active', 'Novell', 'Novell, Inc. dev team', '2003', '2023', '?', '2022-10', 'X', 'SUSE Linux Enterprise Server', 'server', 'Commercial[55]', 'Active', 'Stephan Raue, OpenELEC Team', 'OpenELEC Team', '2011', '8.0.4', '?', '2017-06-04', 'X', 'Kodi', 'multimedia', 'None', 'Inactive', 'SUSE Linux', 'openSUSE Project', '2006', '15.6[56]\\xa0', '1.5 years[57]', '2024-06-12', 'X', 'Slackware, Jurix', 'general, desktop', 'None', 'Active', '?', 'OpenWrt team', '2007', '23.05.3\\xa0[58]', '?', '2024-03-25', 'X', 'Independent', 'embedded systems', 'None', 'Active', 'OpenMandriva Association', 'OpenMandriva Association', '2013', '5.0[59]\\xa0', '?', '2023-11-25', 'X', 'Mandriva Linux', 'general', 'None', 'Active', 'Oracle Corporation', 'Oracle Corporation', '2006', '9.4[60]\\xa0', '?', '2024-05-06', 'X', 'Red Hat Enterprise Linux (RHEL)', 'server', 'None', 'Active', 'Parabola Hackers', 'Parabola Hackers', '2009', 'Rolling[61]', 'Rolling', '2021-08-11[62]', '100% Free: GNU FSDG[8] followed in Parabola Social Contract', 'Arch Linux', 'general', 'None', 'Active', 'Scientific and Technological Research Council of Turkey (TÜBİTAK)', 'TÜBİTAK', '2005', '23.1[63]\\xa0', '?', '2024-01-17', 'X', 'Gentoo (2011.2)  Debian', 'general', 'None', 'Active', 'Lorenzo \"Palinuro\" Faletra', 'Parrot Dev Team', '2013', '6.1[64]\\xa0', 'Rolling', '2024-06-05', 'X', 'Debian', 'security, desktop', 'None', 'Active', 'Alan Baghumian', 'Parsix Project', '2005', '8.15[65]\\xa0', '?', '2017-01-25', 'X', 'Debian', 'desktop', 'None', 'Inactive', 'Patrick Verner', 'Parted Magic LLC.', '2007', '2024_05_02[66]\\xa0', '?', '2024-05-02', 'X', 'Independent', 'live, maintenance', 'Commercial[67]', 'Active', 'Bill Reynolds', 'dev team', '2003', '2022.12', 'Semi-rolling', '2022-12-12', 'X', 'Mandriva Linux', 'desktop', 'None', 'Active', 'Carl Ritchell', 'System76', '2017', '22.04 LTS[68]\\xa0', '2 years for LTS releases.2–3 months after the next release for other releases.', '2022-04-25', 'X', 'Ubuntu', 'desktop, laptop', 'None', 'Active', 'Michael Zanetta, Rick Farina, Jens Pranaitis', 'Pentoo', '2005', '2019.1', '?', '2019-01-17', 'X', 'Gentoo Linux', 'auditing, security', 'None', 'Active', 'Fanthom', 'Porteus', '2010', '5.01[69]\\xa0', '?', '2023-09-26', 'X', 'Slackware', 'lightweight, portable', 'None', 'Active', 'Barry Kauler', 'Puppy Foundation', '2003', '9.5[70]\\xa0', '?', '2020-09-17', 'X', 'Independent, inspired from Vector linux', 'lightweight, portable', 'None', 'Active', 'Todd Weaver', 'Purism', '2009', '10.3[71]\\xa0', 'Stable and Rolling', '2023-06-14', '100% Free: GNU FSDG[8]', 'Debian', 'general, security, privacy', 'None', 'Active', 'Joanna Rutkowska', 'Invisible Things Lab', '2012', '4.2.1[72]\\xa0', '?', '2024-03-26', 'X', 'Xen and Fedora', 'security by compartmentalization, desktop', 'None', 'Active', 'Red Hat', 'Red Hat', '2002', '9.4[73]\\xa0', '12 years[74]', '2024-05-01', 'X', 'Red Hat Linux, Fedora', 'general', 'Commercial[75][76]', 'Active', 'Red Hat', 'Red Hat', '1995', '9[77]\\xa0 alias Shrike', '?', '2003-03-31', 'X', '–', 'server, workstation', 'None', 'Inactive', 'UCSD Supercomputing Center, Clustercorp', 'UCSD Supercomputing Center, Clustercorp', '2000', '7.0[78]\\xa0', '?', '2017-12-01', 'X', 'Red Hat Linux', 'server, workstation', 'None', 'Active', 'Rocky Enterprise Software Foundation', 'Rocky Enterprise Software Foundation', '2021', '9.4[79]\\xa0', '10 years', '2024-05-09', 'X', 'Red Hat Enterprise Linux (RHEL)', 'general', 'None', 'Active', '?', 'LLC NTC IT ROSA', '2011', '12.5[80]\\xa0', '?', '2024-04-02', 'X', 'Mandriva', 'server, general', 'None', 'Active', 'Fabio Erculiani', 'dev team', '2005', '19.03\\xa0[81]', '?', '2019-03-31', 'X', 'Gentoo Linux', 'general', 'None', 'Active', 'Cyrille Pontvieux, George Vlahavas, Pierrick Le Brun, Thorsten Mühlfelder', 'Salix team', '2009', '15.0[82]\\xa0', '?', '2022-09-05', 'X', 'Slackware', 'general', 'None', 'Active', 'CERN, Fermilab', 'dev team', '2004', '7.9[83]\\xa0', '?', '2020-10-20', 'X', 'Red Hat Linux, Red Hat Enterprise Linux (RHEL)', 'server, workstation', 'None', 'Inactive', 'Patrick Volkerding', 'dev team', '1993', '15.0[84]\\xa0', '?', '2022-02-02', 'X', 'Softlanding Linux System (SLS)', 'general', 'None', 'Active', 'Tomas Matejicek', 'Tomas Matejicek', '2002', '12.2.0[85]\\xa0', '?', '2023-10-10', 'X', 'Debian, Slackware (until Slax 9)', 'live', 'None', 'Active', 'Christophe Lincoln', 'dev team', '2008', 'Rolling', 'Rolling', '2020-02-23[86]', 'X', 'Independent', 'portable', 'None', 'Active', 'Ikey Doherty', 'dev team', '2005', 'Rolling', 'Rolling', '2021-07-11', 'X', 'Pardus Linux', 'desktop', 'None', 'Active', 'Arjen Balfoort', 'dev team', '2013', '10-202108\\xa0[87]', 'Debian packages as per Debian', '2021-08-14', 'X', 'Debian', 'desktop', 'None', 'Active', '?', 'Sparky Linux team', '2012', '7.3[88]\\xa0', '?', '2024-03-14', 'X', 'Debian', 'general, video games', 'None', 'Active', 'Ryan Abrams, Eric Schabell', 'dev team', '2002', '0.62-11[89]\\xa0', '?', '2017-09-22', 'Source Mage Social Contract', 'Sorcerer', 'general', 'None', 'Active', 'Valve', 'Valve', '2013', '3.5.17[90]\\xa0', '?', '2024-03-01', 'X', 'Debian (2.0)  Arch Linux (3.0)', 'video games', 'None', 'Active', 'SUSE', 'SUSE', '2000', '15[91]\\xa0SP5[92]', '13 years per version[93]', '2023-06-20', 'Common code base for x86-64, Power, System z, Arm64', 'Slackware, Jurix', 'edge, workstation, server, supercomputer', 'Commercial[94]', 'Active', '?', 'Tails Development Team', '2009', '6.4[95]\\xa0', '–[g 3]', '2024-06-18', 'X', 'Debian', 'security-focused aimed for anonymity and privacy', 'None', 'Active', 'Robert Shingledecker', 'Team Tiny Core', '2009', '15.0[96]\\xa0', '?', '2024-02-22', 'X', 'Independent, inspired from Damn Small Linux', 'portable', 'None', 'Active', 'Rubén Rodríguez Pérez (quidam)', 'Rubén Rodríguez Pérez (quidam)', '2005', '11.0[97]\\xa0', '3 years', '2023-03-19', '100% Free: GNU FSDG[8]', 'Ubuntu LTS', 'desktop', 'None', 'Active', 'Alon Swartz, Liraz Siri', 'TurnKey GNU/Linux Team', '2008', '18.0[98]\\xa0', 'Debian packages as per Debian; TurnKey packages for life of current major version (plus backports per request)', '2023-09-14', 'Debian Social Contract and DFSG', 'Debian', 'server based software appliance library aiming to balance security and ease of use', 'None', 'Active', 'Canonical Ltd.', 'Canonical Ltd.', '2004', '24.04 LTS[100]\\xa024.04 LTS[100]\\xa0', 'Standard releases 9 months, LTS releases 5 years. Flavor LTS releases 3 or 5 years. Ubuntu Pro 10 years.', '2024-04-252024-04-25', 'X', 'Debian', 'general, server, desktop, supercomputer, IBM mainframe', 'None', 'Active', 'Univention GmbH', 'Univention GmbH', '2004', '5.0-8[101]\\xa0', 'up to 6 months for free Core Edition; up to 7 years if maintenance is purchased, see:[102]', '2024-06-11', 'X', 'Debian', 'home, business, and school', 'Core Edition is free of charge', 'Active', 'Diego Saravia, Daniel Olivera', 'UTUTO dev team', '2000', 'XS 2012', '?', '2012-04-27', '100% Free: GNU FSDG[8]', 'Ututo XS: Gentoo Linux, Ututo UL: Ubuntu', 'general', 'None', 'Inactive', 'Robert S. Lange', 'dev team', '1999', '7.2[103]\\xa0', '?', '2017-08-28', 'X', 'Slackware', 'desktop', 'None', 'Inactive', 'Juan Romero Pardines', 'Juan RP and contributors', '2008', 'Rolling', 'Rolling', '2022-10-17', 'X', 'Independent, partially inspired by FreeBSD/NetBSD', 'general', 'None', 'Active', 'Kai Hendry', 'Webconverger Limited', '2007', '35.0[104]\\xa0', '?', '2016-05-19', 'X', 'Debian', 'kiosk software, digital signage', 'Commercial', 'Inactive', 'Xandros Incorporated', 'Xandros Incorporated', '2001', '4.2\\xa0', '?', '2007-07-26', 'X', 'Corel Linux', '?', 'Commercial', 'Inactive', 'eBox Technologies', 'eBox Technologies', '2005', '8.0[105]\\xa0', '?', '2024-02-26', 'X', 'Debian, Ubuntu', 'small business server', 'Some editions are free of charge', '?', 'Jean-Philippe Guillemin', 'dev team', '2004', '15.0-221106[106]\\xa0', '?', '2022-11-06', 'X', 'Slackware', 'general', 'None', 'Active', 'Zorin Group', 'Zorin Group', '2009', '17.1[107]\\xa0', '?', '2024-03-07', 'X', 'Ubuntu', 'general, desktop', 'Zorin OS Lite & Core are free, while Business and Ultimate are paid', 'Active']\n"
     ]
    }
   ],
   "source": [
    "# Those numbers are indexes, 6 is the index of the first <td> item (the first in the table), and 1084 is the first <td>\n",
    "# from the very next table)\n",
    "# Select the indexes to store in columns (from : up to but not including)\n",
    "columns = columns[6:1084]\n",
    "print(columns)\n",
    "# We have now all the data from the table. Good job :D"
   ]
  },
  {
   "cell_type": "code",
   "execution_count": 10,
   "id": "fc88bdce-47d9-4812-afe2-661ab55aacd5",
   "metadata": {},
   "outputs": [
    {
     "data": {
      "text/html": [
       "<div>\n",
       "<style scoped>\n",
       "    .dataframe tbody tr th:only-of-type {\n",
       "        vertical-align: middle;\n",
       "    }\n",
       "\n",
       "    .dataframe tbody tr th {\n",
       "        vertical-align: top;\n",
       "    }\n",
       "\n",
       "    .dataframe thead th {\n",
       "        text-align: right;\n",
       "    }\n",
       "</style>\n",
       "<table border=\"1\" class=\"dataframe\">\n",
       "  <thead>\n",
       "    <tr style=\"text-align: right;\">\n",
       "      <th></th>\n",
       "      <th>distribution</th>\n",
       "      <th>Founder</th>\n",
       "      <th>Maintainer</th>\n",
       "      <th>Initial_Release_Year</th>\n",
       "      <th>Current_Stable_Version</th>\n",
       "      <th>Security_Updates</th>\n",
       "      <th>Release_Date</th>\n",
       "      <th>System_Distribution_Commitment</th>\n",
       "      <th>Forked_From</th>\n",
       "      <th>Target_Audience</th>\n",
       "      <th>Cost</th>\n",
       "      <th>Status</th>\n",
       "    </tr>\n",
       "  </thead>\n",
       "  <tbody>\n",
       "    <tr>\n",
       "      <th>0</th>\n",
       "      <td>AlmaLinux</td>\n",
       "      <td>AlmaLinux Foundation</td>\n",
       "      <td>AlmaLinux Foundation</td>\n",
       "      <td>2021</td>\n",
       "      <td>9.4[2]</td>\n",
       "      <td>10 years[3]</td>\n",
       "      <td>2024-05-06</td>\n",
       "      <td>X</td>\n",
       "      <td>Red Hat Enterprise Linux (RHEL)</td>\n",
       "      <td>server, workstation</td>\n",
       "      <td>None</td>\n",
       "      <td>Active</td>\n",
       "    </tr>\n",
       "    <tr>\n",
       "      <th>1</th>\n",
       "      <td>Alpine Linux</td>\n",
       "      <td>Alpine Linux Team</td>\n",
       "      <td>Alpine Linux Team</td>\n",
       "      <td>2006</td>\n",
       "      <td>3.20.1[4]</td>\n",
       "      <td>?</td>\n",
       "      <td>2024-06-18</td>\n",
       "      <td>X</td>\n",
       "      <td>LEAF Project</td>\n",
       "      <td>security, lightweight, general</td>\n",
       "      <td>None</td>\n",
       "      <td>Active</td>\n",
       "    </tr>\n",
       "    <tr>\n",
       "      <th>2</th>\n",
       "      <td>ALT Linux</td>\n",
       "      <td>ALT Linux Team</td>\n",
       "      <td>ALT Linux Team, ALT Linux LLC</td>\n",
       "      <td>2001</td>\n",
       "      <td>10.3[5]</td>\n",
       "      <td>?</td>\n",
       "      <td>2024-05-13</td>\n",
       "      <td>X</td>\n",
       "      <td>Mandrake Linux</td>\n",
       "      <td>general, school</td>\n",
       "      <td>None</td>\n",
       "      <td>Active</td>\n",
       "    </tr>\n",
       "    <tr>\n",
       "      <th>3</th>\n",
       "      <td>antiX</td>\n",
       "      <td>Anticapitalista</td>\n",
       "      <td>Anticapitalista</td>\n",
       "      <td>2007</td>\n",
       "      <td>23.1[6]</td>\n",
       "      <td>?</td>\n",
       "      <td>2024-02-22</td>\n",
       "      <td>X</td>\n",
       "      <td>Debian, MEPIS</td>\n",
       "      <td>old computers</td>\n",
       "      <td>None</td>\n",
       "      <td>Active</td>\n",
       "    </tr>\n",
       "    <tr>\n",
       "      <th>4</th>\n",
       "      <td>ArchBang</td>\n",
       "      <td>Willensky Aristide</td>\n",
       "      <td>Stan McLaren</td>\n",
       "      <td>2011</td>\n",
       "      <td>Rolling</td>\n",
       "      <td>Rolling</td>\n",
       "      <td>Rolling</td>\n",
       "      <td>X</td>\n",
       "      <td>Arch Linux (UKM Edition)</td>\n",
       "      <td>general</td>\n",
       "      <td>None</td>\n",
       "      <td>Active</td>\n",
       "    </tr>\n",
       "  </tbody>\n",
       "</table>\n",
       "</div>"
      ],
      "text/plain": [
       "   distribution               Founder                     Maintainer  \\\n",
       "0     AlmaLinux  AlmaLinux Foundation           AlmaLinux Foundation   \n",
       "1  Alpine Linux     Alpine Linux Team              Alpine Linux Team   \n",
       "2     ALT Linux        ALT Linux Team  ALT Linux Team, ALT Linux LLC   \n",
       "3         antiX       Anticapitalista                Anticapitalista   \n",
       "4      ArchBang    Willensky Aristide                   Stan McLaren   \n",
       "\n",
       "  Initial_Release_Year Current_Stable_Version Security_Updates Release_Date  \\\n",
       "0                 2021                9.4[2]       10 years[3]   2024-05-06   \n",
       "1                 2006             3.20.1[4]                 ?   2024-06-18   \n",
       "2                 2001               10.3[5]                 ?   2024-05-13   \n",
       "3                 2007               23.1[6]                 ?   2024-02-22   \n",
       "4                 2011                Rolling          Rolling      Rolling   \n",
       "\n",
       "  System_Distribution_Commitment                      Forked_From  \\\n",
       "0                              X  Red Hat Enterprise Linux (RHEL)   \n",
       "1                              X                     LEAF Project   \n",
       "2                              X                   Mandrake Linux   \n",
       "3                              X                    Debian, MEPIS   \n",
       "4                              X         Arch Linux (UKM Edition)   \n",
       "\n",
       "                  Target_Audience  Cost  Status  \n",
       "0             server, workstation  None  Active  \n",
       "1  security, lightweight, general  None  Active  \n",
       "2                 general, school  None  Active  \n",
       "3                   old computers  None  Active  \n",
       "4                         general  None  Active  "
      ]
     },
     "execution_count": 10,
     "metadata": {},
     "output_type": "execute_result"
    }
   ],
   "source": [
    "# Column names. I'll take care of 'distribution' column apart\n",
    "column_names = [\"Founder\", \n",
    "                \"Maintainer\", \n",
    "                \"Initial_Release_Year\", \n",
    "                \"Current_Stable_Version\", \n",
    "                \"Security_Updates\", \n",
    "                \"Release_Date\", \n",
    "                \"System_Distribution_Commitment\", \n",
    "                \"Forked_From\", \n",
    "                \"Target_Audience\", \n",
    "                \"Cost\", \n",
    "                \"Status\"]\n",
    "# Create a dict with the values from the distribution list created at the begining (first column)\n",
    "dictionary = {'distribution' : distribution}\n",
    "# 'enumerate' gives back index and value of column_names (0, 'founder', 1, 'Maintainer'...)\n",
    "# The dictionary now has the 'distribution' key and value, plus the rest of keys from columns_names\n",
    "# columns[index:][::11] es un slice dentro de otro slice\n",
    "# Ex. En index 0 selecciona el 11vo elemento. En index 1 lo mismo, en index 2 ... \n",
    "# Asi se van creando las columnas de la tabla\n",
    "\n",
    "for index, key in enumerate(column_names):\n",
    "    dictionary[key] = columns[index:][::11]\n",
    "# KEY correpondiente de column_names = A SU respectivo INDEX aplicado a la lista columns\n",
    "# Es decir: el index 0 en column_names tomara lugar en index 0 en columns, y tomara el 11vo elemento de esa lista\n",
    "# Hara lo mismo con el 11vo elemento en index 1 de columns, y asi sucesivamente \n",
    "# Select every item\n",
    "# columns = [0: :11] \n",
    "# columns = [1: :11]\n",
    "# columns = [2: :11]\n",
    "# Convierto mi dictionary con toda la data a un dataframe\n",
    "df = pd.DataFrame(data = dictionary)\n",
    "df.head()"
   ]
  },
  {
   "cell_type": "code",
   "execution_count": 12,
   "id": "57944b89-4b73-4bca-8c2a-c5b5aba5b6ac",
   "metadata": {},
   "outputs": [
    {
     "ename": "OperationalError",
     "evalue": "table linux already exists",
     "output_type": "error",
     "traceback": [
      "\u001b[1;31m---------------------------------------------------------------------------\u001b[0m",
      "\u001b[1;31mOperationalError\u001b[0m                          Traceback (most recent call last)",
      "Cell \u001b[1;32mIn[12], line 5\u001b[0m\n\u001b[0;32m      2\u001b[0m connection \u001b[38;5;241m=\u001b[39m sql3\u001b[38;5;241m.\u001b[39mconnect(\u001b[38;5;124m'\u001b[39m\u001b[38;5;124mlinux_distro.db\u001b[39m\u001b[38;5;124m'\u001b[39m)\n\u001b[0;32m      3\u001b[0m cursor \u001b[38;5;241m=\u001b[39m connection\u001b[38;5;241m.\u001b[39mcursor()\n\u001b[1;32m----> 5\u001b[0m \u001b[43mcursor\u001b[49m\u001b[38;5;241;43m.\u001b[39;49m\u001b[43mexecute\u001b[49m\u001b[43m(\u001b[49m\u001b[38;5;124;43m'\u001b[39;49m\u001b[38;5;124;43mCREATE TABLE linux (Distribution, \u001b[39;49m\u001b[38;5;124;43m'\u001b[39;49m\u001b[43m \u001b[49m\u001b[38;5;241;43m+\u001b[39;49m\u001b[43m \u001b[49m\u001b[38;5;124;43m'\u001b[39;49m\u001b[38;5;124;43m,\u001b[39;49m\u001b[38;5;124;43m'\u001b[39;49m\u001b[38;5;241;43m.\u001b[39;49m\u001b[43mjoin\u001b[49m\u001b[43m(\u001b[49m\u001b[43mcolumn_names\u001b[49m\u001b[43m)\u001b[49m\u001b[38;5;241;43m+\u001b[39;49m\u001b[38;5;124;43m'\u001b[39;49m\u001b[38;5;124;43m)\u001b[39;49m\u001b[38;5;124;43m'\u001b[39;49m\u001b[43m)\u001b[49m\n\u001b[0;32m      6\u001b[0m \u001b[38;5;66;03m# Insert Pandas DataFrame into a sqlite table\u001b[39;00m\n\u001b[0;32m      7\u001b[0m \u001b[38;5;66;03m# Insert values into columns, iloc[i] refers to the location of the iterable 'i'\u001b[39;00m\n\u001b[0;32m      8\u001b[0m \u001b[38;5;28;01mfor\u001b[39;00m i \u001b[38;5;129;01min\u001b[39;00m \u001b[38;5;28mrange\u001b[39m(\u001b[38;5;28mlen\u001b[39m(df)):\n",
      "\u001b[1;31mOperationalError\u001b[0m: table linux already exists"
     ]
    }
   ],
   "source": [
    "# Insert data into a data base\n",
    "connection = sql3.connect('linux_distro.db')\n",
    "cursor = connection.cursor()\n",
    "\n",
    "cursor.execute('CREATE TABLE linux (Distribution, ' + ','.join(column_names)+')')\n",
    "# Insert Pandas DataFrame into a sqlite table\n",
    "# Insert values into columns, iloc[i] refers to the location of the iterable 'i' \n",
    "# iloc[] represents the rows\n",
    "for i in range(len(df)):\n",
    "    cursor.execute('INSERT into linux values (?,?,?,?,?,?,?,?,?,?,?,?)', df.iloc[i])\n",
    "\n",
    "# Save data permanently in \"linux_distro.db\"\n",
    "connection.commit()\n",
    "\n",
    "connection.close()"
   ]
  },
  {
   "cell_type": "code",
   "execution_count": null,
   "id": "32983283-be66-40b9-bc71-1119191506f0",
   "metadata": {},
   "outputs": [],
   "source": []
  }
 ],
 "metadata": {
  "kernelspec": {
   "display_name": "Python 3 (ipykernel)",
   "language": "python",
   "name": "python3"
  },
  "language_info": {
   "codemirror_mode": {
    "name": "ipython",
    "version": 3
   },
   "file_extension": ".py",
   "mimetype": "text/x-python",
   "name": "python",
   "nbconvert_exporter": "python",
   "pygments_lexer": "ipython3",
   "version": "3.12.2"
  }
 },
 "nbformat": 4,
 "nbformat_minor": 5
}
