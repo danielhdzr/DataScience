{
 "cells": [
  {
   "cell_type": "code",
   "execution_count": 1,
   "id": "0cb56979-245c-4291-807b-589a269877f6",
   "metadata": {},
   "outputs": [
    {
     "name": "stdout",
     "output_type": "stream",
     "text": [
      "https://images.google.com/\n"
     ]
    }
   ],
   "source": [
    "import mechanicalsoup\n",
    "\n",
    "browser = mechanicalsoup.StatefulBrowser()\n",
    "\n",
    "url = 'https://images.google.com'\n",
    "# Open the google images page\n",
    "browser.open(url)\n",
    "print(browser.get_url())"
   ]
  },
  {
   "cell_type": "code",
   "execution_count": 2,
   "id": "5c5a039a-9d81-4e50-83c0-aa1c611f7e04",
   "metadata": {},
   "outputs": [
    {
     "name": "stdout",
     "output_type": "stream",
     "text": [
      "<input name=\"tbm\" type=\"hidden\" value=\"isch\"/>\n",
      "<input name=\"ie\" type=\"hidden\" value=\"ISO-8859-1\"/>\n",
      "<input name=\"hl\" type=\"hidden\" value=\"es-419\"/>\n",
      "<input name=\"source\" type=\"hidden\" value=\"hp\"/>\n",
      "<input name=\"biw\" type=\"hidden\"/>\n",
      "<input name=\"bih\" type=\"hidden\"/>\n",
      "<input autocomplete=\"off\" class=\"lst\" maxlength=\"2048\" name=\"q\" size=\"57\" style=\"margin:0;padding:5px 8px 0 6px;vertical-align:top;color:#000\" title=\"Imágenes de búsqueda\" value=\"\"/>\n",
      "<input class=\"lsb\" name=\"btnG\" type=\"submit\" value=\"Imágenes de búsqueda\"/>\n",
      "<input id=\"gbv\" name=\"gbv\" type=\"hidden\" value=\"1\"/>\n",
      "New URL: https://www.google.com/search?tbm=isch&ie=ISO-8859-1&hl=es-419&source=hp&biw=&bih=&q=dog&btnG=Im%C3%A1genes+de+b%C3%BAsqueda&gbv=1\n",
      "My response: \n",
      " <!DOCTYPE html PUBLIC \"-//WAPFORUM//DTD XHTML Mobile 1.0//EN\" \"http://www.wapforum.org/DTD/xhtml-mobile10.dtd\"><html xmlns=\"http://www.w3.org/1999/xhtml\" lang=\"es-419\"><head><meta content=\"application/xhtml+xml; charset=UTF-8\" http-equiv=\"Content-Type\"/><meta content=\"no-cache\" name=\"Cache-Control\"/><title>dog - Buscar con Google</title><style>a{text-decoration:none;color:inherit}a:hover{text-decoration:underline}a img{border:0}body{font-family:arial,sans-serif;padding:8px;margin:0 auto;max-widt\n"
     ]
    }
   ],
   "source": [
    "# Get HTML\n",
    "browser.get_current_page()\n",
    "\n",
    "# ***** TARGET THE SEARCH INPUT FIELD *****\n",
    "#This expression will target ALL the input tags\n",
    "browser.select_form()\n",
    "# Get the summary of all the input fields on the page (one per existing tag)\n",
    "browser.get_current_form().print_summary()\n",
    "\n",
    "# This code represents the search field on google images\n",
    "# <input autocomplete=\"off\" class=\"lst\" maxlength=\"2048\" name=\"q\"  <-- I'M LOOKING FOR THE NAME OF THE SEARCH BAR INPUT\n",
    "# size=\"57\" style=\"margin:0;padding:5px 8px 0 6px;vertical-align:top;color:#000\" title=\"Imágenes de búsqueda\" value=\"\"/>\n",
    "\n",
    "# The input element NAMED 'q' targets the search bar on google images\n",
    "\n",
    "# Term I want to search for\n",
    "search_term = 'dog'\n",
    "# [] The name value of the input I want to select. If the name was 'pwll' that I should place there -> []\n",
    "# Place my search term in the input named 'q' (search bar)\n",
    "browser['q'] = search_term\n",
    "\n",
    "# *****SUBMIT /'CLICK' SEARCH*****\n",
    "# Type our search term in the search bar\n",
    "browser.launch_browser()\n",
    "# Submit our search \n",
    "response = browser.submit_selected()\n",
    "# Get the new url with pictures of cats\n",
    "print('New URL:', browser.get_url()) \n",
    "print('My response: \\n', response.text[:500]) "
   ]
  },
  {
   "cell_type": "code",
   "execution_count": 3,
   "id": "0f73e102-3a4d-4f77-8b05-4eefa4da24df",
   "metadata": {},
   "outputs": [
    {
     "data": {
      "text/plain": [
       "['/images/branding/searchlogo/1x/googlelogo_desk_heirloom_color_150x55dp.gif',\n",
       " 'https://encrypted-tbn0.gstatic.com/images?q=tbn:ANd9GcRKY09SOJjsCOG_q6ilm-rbUJjcLaYfkDQZBzifN0k0s4cuqf_XoLOscNmTsco&s',\n",
       " 'https://encrypted-tbn0.gstatic.com/images?q=tbn:ANd9GcTxc6B-rTX2W_2ebGA9yevnhaJZJpW7Njs_QIuERCnYnVv68Q53LbyEn8sjgA&s',\n",
       " 'https://encrypted-tbn0.gstatic.com/images?q=tbn:ANd9GcTpgFPpBmilb_2wiKfdWumPyVuwBTe8kFdz-B-J6UyutTSnHwm14PvY51_QFA&s',\n",
       " 'https://encrypted-tbn0.gstatic.com/images?q=tbn:ANd9GcRYNzpkD_VIxtXkFvbYauZp09AIvwxYF2_LqTPJ38UGhURfCs6DDej7yiH--g&s',\n",
       " 'https://encrypted-tbn0.gstatic.com/images?q=tbn:ANd9GcTDRqf3RejS5EQG6BoOGwzAaOFtmhVOzvjWsdgaoCIQzt21RSI3QhfYAOdcaa8&s',\n",
       " 'https://encrypted-tbn0.gstatic.com/images?q=tbn:ANd9GcQ7q3wd2_QLG1NiUDtcSF5wbH69SetaFQ-XQit18TEHsi4IeERCgBXrzH-7pLU&s',\n",
       " 'https://encrypted-tbn0.gstatic.com/images?q=tbn:ANd9GcRhkLp38uFYv2TUR9aP-UKH6vJTpQmdMQgye5CuspKUA6dHXbBMOFmf8eOZiw&s',\n",
       " 'https://encrypted-tbn0.gstatic.com/images?q=tbn:ANd9GcSt0c9Gonyfqgkmd2Z0i-mjIxVk1c-9Dl7X2fumfqoFryKewpOdAgCfmgGkBjg&s',\n",
       " 'https://encrypted-tbn0.gstatic.com/images?q=tbn:ANd9GcRy8hVeFjxLXrzFToZQMHAO_ZM3jivJqCMpC_nyBoBtQ0zZo2v6Qj-zRDQjBJU&s',\n",
       " 'https://encrypted-tbn0.gstatic.com/images?q=tbn:ANd9GcT-usQYw2I513Uk1Bj8t1-KUiXZxKL2W610gbpBeCTSyxaKQj1xb6ifMDVDvg&s',\n",
       " 'https://encrypted-tbn0.gstatic.com/images?q=tbn:ANd9GcQIsHJtBhFXzHsLVy7ZWHJ2ZWgB4C-iPQym6wkdIcRdvb6eiENYfkWMju_7hQ&s',\n",
       " 'https://encrypted-tbn0.gstatic.com/images?q=tbn:ANd9GcQ6IelJCtYAaf6vN4pXUWSMw8M6mjMw0iArs_s0Jq_25gDd_4laeAneg2pPtxQ&s',\n",
       " 'https://encrypted-tbn0.gstatic.com/images?q=tbn:ANd9GcQrtTpojHGg3i2rGrGfDbkZ8n92nGt_ZV7pRU3SyyA8Q-7TFDIoa0b_B6EsBQ&s',\n",
       " 'https://encrypted-tbn0.gstatic.com/images?q=tbn:ANd9GcQUEZ3xWrb-BWnAbuAMF5ZhCdDTXu6fp6zAY2uVREPwhbGlGH1l_95U4eKHuyM&s',\n",
       " 'https://encrypted-tbn0.gstatic.com/images?q=tbn:ANd9GcRzH4S5VYY_T2VQWMbl9R9PLtKQpB2NnfGfYI3yyCu9qezwf3l6TjTFwEqQ6A&s',\n",
       " 'https://encrypted-tbn0.gstatic.com/images?q=tbn:ANd9GcRoLH04mjGE4GZNeuqYuXJtTRJtw2Hg1cuuQbr79hCs7nYyd4nHr75cN6nXONo&s',\n",
       " 'https://encrypted-tbn0.gstatic.com/images?q=tbn:ANd9GcSsT6GXh7exIFneocome1oK4EkNyxp9-HUqFrQ54MLNaTGlAjytdKQ_u5fhqOg&s',\n",
       " 'https://encrypted-tbn0.gstatic.com/images?q=tbn:ANd9GcQ4yABU1bNK7C7yImi4g5aTRTAgXcUpzW3IYVkYkb9J_Zooz1rQgxP89YjYstc&s',\n",
       " 'https://encrypted-tbn0.gstatic.com/images?q=tbn:ANd9GcTp2bMzuL2VcfJNW2qdLtFKtys_BbiS7O4g5iIq3AYcOvYcRNN4vwipilw6pA&s',\n",
       " 'https://encrypted-tbn0.gstatic.com/images?q=tbn:ANd9GcQauoRom3fGtgtUVNYiiJpf_H9e3xgJ7kXfNWmma9luhpmCPloU8Yxt5d2X&s']"
      ]
     },
     "execution_count": 3,
     "metadata": {},
     "output_type": "execute_result"
    }
   ],
   "source": [
    "# Open new URL\n",
    "new_url = browser.get_url()\n",
    "browser.open(new_url)\n",
    "\n",
    "# Get the HTML\n",
    "page = browser.get_current_page()\n",
    "# Get all the images in the page (cats I'm looking for)\n",
    "all_images = page.find_all('img')\n",
    "\n",
    "# Target the source attribute\n",
    "image_source = []\n",
    "# Itero en la pagina en busca de la fuente de cada imagen\n",
    "for image in all_images:\n",
    "    image = image.get('src')\n",
    "    image_source.append(image)\n",
    "image_source"
   ]
  },
  {
   "cell_type": "code",
   "execution_count": 4,
   "id": "f14ac1e4-f95e-434b-89b2-b6ebbd938951",
   "metadata": {},
   "outputs": [
    {
     "data": {
      "text/plain": [
       "['https://encrypted-tbn0.gstatic.com/images?q=tbn:ANd9GcRKY09SOJjsCOG_q6ilm-rbUJjcLaYfkDQZBzifN0k0s4cuqf_XoLOscNmTsco&s',\n",
       " 'https://encrypted-tbn0.gstatic.com/images?q=tbn:ANd9GcTxc6B-rTX2W_2ebGA9yevnhaJZJpW7Njs_QIuERCnYnVv68Q53LbyEn8sjgA&s',\n",
       " 'https://encrypted-tbn0.gstatic.com/images?q=tbn:ANd9GcTpgFPpBmilb_2wiKfdWumPyVuwBTe8kFdz-B-J6UyutTSnHwm14PvY51_QFA&s',\n",
       " 'https://encrypted-tbn0.gstatic.com/images?q=tbn:ANd9GcRYNzpkD_VIxtXkFvbYauZp09AIvwxYF2_LqTPJ38UGhURfCs6DDej7yiH--g&s',\n",
       " 'https://encrypted-tbn0.gstatic.com/images?q=tbn:ANd9GcTDRqf3RejS5EQG6BoOGwzAaOFtmhVOzvjWsdgaoCIQzt21RSI3QhfYAOdcaa8&s',\n",
       " 'https://encrypted-tbn0.gstatic.com/images?q=tbn:ANd9GcQ7q3wd2_QLG1NiUDtcSF5wbH69SetaFQ-XQit18TEHsi4IeERCgBXrzH-7pLU&s',\n",
       " 'https://encrypted-tbn0.gstatic.com/images?q=tbn:ANd9GcRhkLp38uFYv2TUR9aP-UKH6vJTpQmdMQgye5CuspKUA6dHXbBMOFmf8eOZiw&s',\n",
       " 'https://encrypted-tbn0.gstatic.com/images?q=tbn:ANd9GcSt0c9Gonyfqgkmd2Z0i-mjIxVk1c-9Dl7X2fumfqoFryKewpOdAgCfmgGkBjg&s',\n",
       " 'https://encrypted-tbn0.gstatic.com/images?q=tbn:ANd9GcRy8hVeFjxLXrzFToZQMHAO_ZM3jivJqCMpC_nyBoBtQ0zZo2v6Qj-zRDQjBJU&s',\n",
       " 'https://encrypted-tbn0.gstatic.com/images?q=tbn:ANd9GcT-usQYw2I513Uk1Bj8t1-KUiXZxKL2W610gbpBeCTSyxaKQj1xb6ifMDVDvg&s',\n",
       " 'https://encrypted-tbn0.gstatic.com/images?q=tbn:ANd9GcQIsHJtBhFXzHsLVy7ZWHJ2ZWgB4C-iPQym6wkdIcRdvb6eiENYfkWMju_7hQ&s',\n",
       " 'https://encrypted-tbn0.gstatic.com/images?q=tbn:ANd9GcQ6IelJCtYAaf6vN4pXUWSMw8M6mjMw0iArs_s0Jq_25gDd_4laeAneg2pPtxQ&s',\n",
       " 'https://encrypted-tbn0.gstatic.com/images?q=tbn:ANd9GcQrtTpojHGg3i2rGrGfDbkZ8n92nGt_ZV7pRU3SyyA8Q-7TFDIoa0b_B6EsBQ&s',\n",
       " 'https://encrypted-tbn0.gstatic.com/images?q=tbn:ANd9GcQUEZ3xWrb-BWnAbuAMF5ZhCdDTXu6fp6zAY2uVREPwhbGlGH1l_95U4eKHuyM&s',\n",
       " 'https://encrypted-tbn0.gstatic.com/images?q=tbn:ANd9GcRzH4S5VYY_T2VQWMbl9R9PLtKQpB2NnfGfYI3yyCu9qezwf3l6TjTFwEqQ6A&s',\n",
       " 'https://encrypted-tbn0.gstatic.com/images?q=tbn:ANd9GcRoLH04mjGE4GZNeuqYuXJtTRJtw2Hg1cuuQbr79hCs7nYyd4nHr75cN6nXONo&s',\n",
       " 'https://encrypted-tbn0.gstatic.com/images?q=tbn:ANd9GcSsT6GXh7exIFneocome1oK4EkNyxp9-HUqFrQ54MLNaTGlAjytdKQ_u5fhqOg&s',\n",
       " 'https://encrypted-tbn0.gstatic.com/images?q=tbn:ANd9GcQ4yABU1bNK7C7yImi4g5aTRTAgXcUpzW3IYVkYkb9J_Zooz1rQgxP89YjYstc&s',\n",
       " 'https://encrypted-tbn0.gstatic.com/images?q=tbn:ANd9GcTp2bMzuL2VcfJNW2qdLtFKtys_BbiS7O4g5iIq3AYcOvYcRNN4vwipilw6pA&s',\n",
       " 'https://encrypted-tbn0.gstatic.com/images?q=tbn:ANd9GcQauoRom3fGtgtUVNYiiJpf_H9e3xgJ7kXfNWmma9luhpmCPloU8Yxt5d2X&s']"
      ]
     },
     "execution_count": 4,
     "metadata": {},
     "output_type": "execute_result"
    }
   ],
   "source": [
    "# Save the ones that are not broken. Any broken link will be discarded\n",
    "image_source = [image for image in image_source if image.startswith('https')]\n",
    "image_source"
   ]
  },
  {
   "cell_type": "code",
   "execution_count": 6,
   "id": "2b9f77d6-0234-48f0-82e7-791d5c508921",
   "metadata": {},
   "outputs": [
    {
     "data": {
      "text/plain": [
       "'C:\\\\Users\\\\Dan\\\\Desktop\\\\Coding\\\\python\\\\DB\\\\jupyter_notebook\\\\MechanicalSoup\\\\dogs'"
      ]
     },
     "execution_count": 6,
     "metadata": {},
     "output_type": "execute_result"
    }
   ],
   "source": [
    "# Help me create a new directory \n",
    "import os\n",
    "# To save the images\n",
    "import wget\n",
    "# Path in wich I'm working \n",
    "path = os.getcwd()\n",
    "# Path for a new directory within my current directory to save the images\n",
    "path = os.path.join(path, search_term + 's')\n",
    "# Make the new directory\n",
    "os.mkdir(path)\n",
    "path"
   ]
  },
  {
   "cell_type": "code",
   "execution_count": 7,
   "id": "8dd2e3a7-946a-417b-b4fb-346ef58e8764",
   "metadata": {},
   "outputs": [
    {
     "name": "stdout",
     "output_type": "stream",
     "text": [
      "100% [................................................................................] 4327 / 4327"
     ]
    }
   ],
   "source": [
    "# Download  images\n",
    "counter = 0\n",
    "for image in image_source:\n",
    "    # Cada imagen se guarda con su numero de contador en str (img1, img2...), y con la terminacion .jpg\n",
    "    save_as = os.path.join(path, search_term + str(counter) + '.jpg')\n",
    "    # (Image we want to download, the location of the directory and the name of the file)\n",
    "    wget.download(image, save_as)\n",
    "    counter += 1"
   ]
  },
  {
   "cell_type": "code",
   "execution_count": null,
   "id": "02a658ed-72db-464c-b82c-f9185cdb7c16",
   "metadata": {},
   "outputs": [],
   "source": []
  }
 ],
 "metadata": {
  "kernelspec": {
   "display_name": "Python 3 (ipykernel)",
   "language": "python",
   "name": "python3"
  },
  "language_info": {
   "codemirror_mode": {
    "name": "ipython",
    "version": 3
   },
   "file_extension": ".py",
   "mimetype": "text/x-python",
   "name": "python",
   "nbconvert_exporter": "python",
   "pygments_lexer": "ipython3",
   "version": "3.12.2"
  }
 },
 "nbformat": 4,
 "nbformat_minor": 5
}
